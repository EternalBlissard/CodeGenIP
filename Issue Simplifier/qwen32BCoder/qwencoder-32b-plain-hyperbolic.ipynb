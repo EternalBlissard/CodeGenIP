{
 "cells": [
  {
   "cell_type": "code",
   "execution_count": 1,
   "id": "02b02159",
   "metadata": {
    "_cell_guid": "b1076dfc-b9ad-4769-8c92-a6c4dae69d19",
    "_uuid": "8f2839f25d086af736a60e9eeb907d3b93b6e0e5",
    "execution": {
     "iopub.execute_input": "2024-11-26T14:05:36.157883Z",
     "iopub.status.busy": "2024-11-26T14:05:36.157343Z",
     "iopub.status.idle": "2024-11-26T14:05:36.164297Z",
     "shell.execute_reply": "2024-11-26T14:05:36.163190Z"
    },
    "papermill": {
     "duration": 0.017529,
     "end_time": "2024-11-26T14:05:36.166675",
     "exception": false,
     "start_time": "2024-11-26T14:05:36.149146",
     "status": "completed"
    },
    "tags": []
   },
   "outputs": [],
   "source": [
    "# # This Python 3 environment comes with many helpful analytics libraries installed\n",
    "# # It is defined by the kaggle/python Docker image: https://github.com/kaggle/docker-python\n",
    "# # For example, here's several helpful packages to load\n",
    "\n",
    "# import numpy as np # linear algebra\n",
    "# import pandas as pd # data processing, CSV file I/O (e.g. pd.read_csv)\n",
    "\n",
    "# # Input data files are available in the read-only \"../input/\" directory\n",
    "# # For example, running this (by clicking run or pressing Shift+Enter) will list all files under the input directory\n",
    "\n",
    "# import os\n",
    "# for dirname, _, filenames in os.walk('/kaggle/input'):\n",
    "#     for filename in filenames:\n",
    "#         print(os.path.join(dirname, filename))\n",
    "\n",
    "# # You can write up to 20GB to the current directory (/kaggle/working/) that gets preserved as output when you create a version using \"Save & Run All\" \n",
    "# # You can also write temporary files to /kaggle/temp/, but they won't be saved outside of the current session"
   ]
  },
  {
   "cell_type": "code",
   "execution_count": 2,
   "id": "27697034",
   "metadata": {
    "execution": {
     "iopub.execute_input": "2024-11-26T14:05:36.178409Z",
     "iopub.status.busy": "2024-11-26T14:05:36.177936Z",
     "iopub.status.idle": "2024-11-26T14:05:36.261460Z",
     "shell.execute_reply": "2024-11-26T14:05:36.260075Z"
    },
    "papermill": {
     "duration": 0.092443,
     "end_time": "2024-11-26T14:05:36.264426",
     "exception": false,
     "start_time": "2024-11-26T14:05:36.171983",
     "status": "completed"
    },
    "tags": []
   },
   "outputs": [],
   "source": [
    "import base64\n",
    "import requests\n",
    "from io import BytesIO\n",
    "from PIL import Image\n"
   ]
  },
  {
   "cell_type": "code",
   "execution_count": 3,
   "id": "493712f4",
   "metadata": {
    "execution": {
     "iopub.execute_input": "2024-11-26T14:05:36.277283Z",
     "iopub.status.busy": "2024-11-26T14:05:36.275478Z",
     "iopub.status.idle": "2024-11-26T14:05:36.484490Z",
     "shell.execute_reply": "2024-11-26T14:05:36.483131Z"
    },
    "papermill": {
     "duration": 0.217732,
     "end_time": "2024-11-26T14:05:36.487072",
     "exception": false,
     "start_time": "2024-11-26T14:05:36.269340",
     "status": "completed"
    },
    "tags": []
   },
   "outputs": [],
   "source": [
    "from kaggle_secrets import UserSecretsClient\n",
    "user_secrets = UserSecretsClient()\n",
    "secret_value_0 = user_secrets.get_secret(\"hyperbolic\")\n"
   ]
  },
  {
   "cell_type": "code",
   "execution_count": 4,
   "id": "bc2a8b9e",
   "metadata": {
    "execution": {
     "iopub.execute_input": "2024-11-26T14:05:36.498269Z",
     "iopub.status.busy": "2024-11-26T14:05:36.497828Z",
     "iopub.status.idle": "2024-11-26T14:05:36.506263Z",
     "shell.execute_reply": "2024-11-26T14:05:36.504971Z"
    },
    "papermill": {
     "duration": 0.017059,
     "end_time": "2024-11-26T14:05:36.508840",
     "exception": false,
     "start_time": "2024-11-26T14:05:36.491781",
     "status": "completed"
    },
    "tags": []
   },
   "outputs": [],
   "source": [
    "# from huggingface_hub import InferenceClient\n",
    "# client = InferenceClient(api_key=HF_TOKEN)\n",
    "\n",
    "def qwen_reply(temperature=0.5,max_tokens=1024, top_p=0.7, message=None):\n",
    "    # print(message)\n",
    "    if(message is None):\n",
    "        return \"No input received\"\n",
    "        \n",
    "    secret_value_0 = user_secrets.get_secret(\"hyperbolic\")\n",
    "    api = \"https://api.hyperbolic.xyz/v1/chat/completions\"\n",
    "    api_key = secret_value_0\n",
    "    \n",
    "    headers = {\n",
    "        \"Content-Type\": \"application/json\",\n",
    "        \"Authorization\": f\"Bearer {api_key}\",\n",
    "    }\n",
    "    \n",
    "    \n",
    "    payload = {\n",
    "    \"messages\": [\n",
    "        {\n",
    "            \"role\": \"system\",\n",
    "            \"content\": \"You are an expert logician\"\n",
    "        },\n",
    "        {\n",
    "            \"role\": \"user\",\n",
    "            \"content\": \"Simplify the given Passage.\"+message+\"SIMPLIFY THE ABOVE PASSAGE\"\n",
    "        }\n",
    "    ],\n",
    "        \"model\": \"Qwen/Qwen2.5-Coder-32B-Instruct\",\n",
    "        \"max_tokens\": max_tokens,\n",
    "        \"temperature\": temperature,\n",
    "        \"top_p\": top_p,\n",
    "    }\n",
    "    \n",
    "    response = requests.post(api, headers=headers, json=payload)\n",
    "    # print(response.json())\n",
    "    return response.json()['choices'][0]['message']['content']\n"
   ]
  },
  {
   "cell_type": "code",
   "execution_count": 5,
   "id": "1ad14d9b",
   "metadata": {
    "execution": {
     "iopub.execute_input": "2024-11-26T14:05:36.519798Z",
     "iopub.status.busy": "2024-11-26T14:05:36.519397Z",
     "iopub.status.idle": "2024-11-26T14:05:36.524663Z",
     "shell.execute_reply": "2024-11-26T14:05:36.523441Z"
    },
    "papermill": {
     "duration": 0.013563,
     "end_time": "2024-11-26T14:05:36.527121",
     "exception": false,
     "start_time": "2024-11-26T14:05:36.513558",
     "status": "completed"
    },
    "tags": []
   },
   "outputs": [],
   "source": [
    "# response.json()['choices'][0]['message']['content']"
   ]
  },
  {
   "cell_type": "code",
   "execution_count": 6,
   "id": "48c0aaa4",
   "metadata": {
    "execution": {
     "iopub.execute_input": "2024-11-26T14:05:36.540187Z",
     "iopub.status.busy": "2024-11-26T14:05:36.539768Z",
     "iopub.status.idle": "2024-11-26T14:05:36.548318Z",
     "shell.execute_reply": "2024-11-26T14:05:36.547075Z"
    },
    "papermill": {
     "duration": 0.018686,
     "end_time": "2024-11-26T14:05:36.550979",
     "exception": false,
     "start_time": "2024-11-26T14:05:36.532293",
     "status": "completed"
    },
    "tags": []
   },
   "outputs": [],
   "source": [
    "L = [\n",
    "    \"\"\"What happened?\n",
    "Calling itertools.count(sys.maxsize) aborts with the following message:\n",
    "\n",
    "python -c \"from sys import maxsize; from itertools import count; count(maxsize)\"\n",
    "python: ./Modules/itertoolsmodule.c:3325: itertools_count_impl: Assertion `(cnt != PY_SSIZE_T_MAX && long_cnt == NULL && fast_mode) || (cnt == PY_SSIZE_T_MAX && long_cnt != NULL && !fast_mode)' failed.\n",
    "Aborted (core dumped)\n",
    "Found using fusil by @vstinner.\n",
    "\n",
    "CPython versions tested on:\n",
    "CPython main branch\n",
    "\n",
    "Operating systems tested on:\n",
    "Linux, Windows\n",
    "\n",
    "Output from running 'python -VV' on the command line:\n",
    "Python 3.14.0a1+ (heads/main:4ea214ea982, Nov 6 2024, 00:52:15) [MSC v.1941 64 bit (AMD64)]\n",
    "\n",
    "\"\"\",\n",
    "\"\"\"\n",
    "What happened?\n",
    "Calling bytes_object.__buffer__(large_negative_number) in a debug build aborts with this message:\n",
    "\n",
    ">>> b\"\".__buffer__(-2**31 - 1)\n",
    "python: Objects/typeobject.c:9321: wrap_buffer: Assertion `_Py_STATIC_CAST(Py_ssize_t, _Py_STATIC_CAST(int, (flags))) == (flags)' failed.\n",
    "Aborted\n",
    "Found using fusil by @vstinner.\n",
    "\n",
    "CPython versions tested on:\n",
    "CPython main branch\n",
    "\n",
    "Operating systems tested on:\n",
    "Linux, Windows\n",
    "\n",
    "Output from running 'python -VV' on the command line:\n",
    "Python 3.14.0a1+ (heads/main:4ea214ea982, Nov 6 2024, 00:52:15) [MSC v.1941 64 bit (AMD64)]\n",
    "\n",
    "\"\"\",\n",
    "    \"\"\"\n",
    "    Incorrect and misleading translation of the module fnmatch description, in the first phrase:\n",
    "\n",
    "EN: https://docs.python.org/3.13/library/fnmatch.html\n",
    "\n",
    "This module provides support for Unix shell-style wildcards, which are _not_ the same as regular expressions\n",
    "\n",
    "UK: https://docs.python.org/uk/3/library/fnmatch.html\n",
    "\n",
    "Цей модуль підтримує символи підстановки у стилі оболонки Unix, які _не_ відрізняються від регулярних виразів\n",
    "\n",
    "In this translation, the bold phrase in Ukrainian (UK) version means which _are the same_ as regular expressions. It is quite an opposite to the intended meaning!\n",
    "\n",
    "Correct translation of which are _not_ the same as is\n",
    "\n",
    "either: які _не_ відповідають регулярним виразам;\n",
    "or: які _не_ те саме, що регулярні вирази;\n",
    "or: які _відрізняються_ від регулярних виразів.\n",
    "\n",
    "    \"\"\",\n",
    "\n",
    "    \"\"\"\n",
    "    Bug description:\n",
    "from datetime import datetime\n",
    "time_with_warning = datetime.utcnow()\n",
    "time_with_error = datetime.now(datetime.UTC)\n",
    "time_is_correct = datetime.now(timezone.utc)\n",
    "When using datetime.datetime.utcnow(), Python raises a DeprecationWarning. The warning suggests using datetime.datetime.now(datetime.UTC) to create a timezone-aware UTC datetime object. However, this suggestion is incorrect because datetime.UTC does not exist in Python's datetime module. The correct approach should be datetime.datetime.now(timezone.utc).\n",
    "    \"\"\",\n",
    "    \"\"\"\n",
    "    Bug description:\n",
    "I'm using the zipfile module to create a ZIP file with thousands of members. Each file is created by creating a corresponding zipfile.Path object first and then calling .open() on it.\n",
    "\n",
    "The implementation of open() contains a check whether the file already exists when opening a file in read mode:\n",
    "\n",
    "if not self.exists() and zip_mode == 'r':\n",
    "    raise FileNotFoundError(self)\n",
    "However, self.exists() is called even in write mode, because it is the and operator's first argument.\n",
    "The call to self.exists() is quite slow however, because this requires the ZIP file's .namelist() to be computed, which in turn requires to compute all the implied directories. After all, this is the reason why the FastLookup optimization exists for ZIP files in read mode.\n",
    "\n",
    "I found this issue after profiling my application and was surprised that more than half of its execution time was spent in computing implied ZIP directories.\n",
    "\n",
    "I would propose to swap the and arguments so the check looks like this:\n",
    "\n",
    "if zip_mode == \"r\" and not self.exists():\n",
    "    raise FileNotFoundError(self)\n",
    "This will cause the self.exists() check to only be run in read mode, where the check is fast because of FastLookup anyway.\n",
    "\n",
    "I'm happy to provide a pull request with this change.\n",
    "\n",
    "CPython versions tested on:\n",
    "3.11, 3.12\n",
    "\n",
    "Operating systems tested on:\n",
    "Linux, macOS\n",
    "\n",
    "\n",
    "    \"\"\"\n",
    "]"
   ]
  },
  {
   "cell_type": "code",
   "execution_count": 7,
   "id": "22eb487e",
   "metadata": {
    "execution": {
     "iopub.execute_input": "2024-11-26T14:05:36.562026Z",
     "iopub.status.busy": "2024-11-26T14:05:36.561610Z",
     "iopub.status.idle": "2024-11-26T14:05:41.695479Z",
     "shell.execute_reply": "2024-11-26T14:05:41.694107Z"
    },
    "papermill": {
     "duration": 5.142525,
     "end_time": "2024-11-26T14:05:41.698162",
     "exception": false,
     "start_time": "2024-11-26T14:05:36.555637",
     "status": "completed"
    },
    "tags": []
   },
   "outputs": [],
   "source": [
    "res0 = qwen_reply(message=L[0])\n"
   ]
  },
  {
   "cell_type": "code",
   "execution_count": 8,
   "id": "b9b1df53",
   "metadata": {
    "execution": {
     "iopub.execute_input": "2024-11-26T14:05:41.709361Z",
     "iopub.status.busy": "2024-11-26T14:05:41.708915Z",
     "iopub.status.idle": "2024-11-26T14:05:41.715661Z",
     "shell.execute_reply": "2024-11-26T14:05:41.714385Z"
    },
    "papermill": {
     "duration": 0.015024,
     "end_time": "2024-11-26T14:05:41.718060",
     "exception": false,
     "start_time": "2024-11-26T14:05:41.703036",
     "status": "completed"
    },
    "tags": []
   },
   "outputs": [
    {
     "name": "stdout",
     "output_type": "stream",
     "text": [
      "Here's a simplified version of the passage:\n",
      "\n",
      "When calling `itertools.count(sys.maxsize)` in Python 3.14.0a1+, the program crashes with an assertion error. This issue was discovered using the fusil tool by @vstinner and has been tested on both Linux and Windows operating systems.\n"
     ]
    }
   ],
   "source": [
    "for i in res0.split('\\n'):\n",
    "    print(i)"
   ]
  },
  {
   "cell_type": "code",
   "execution_count": 9,
   "id": "26ba5354",
   "metadata": {
    "execution": {
     "iopub.execute_input": "2024-11-26T14:05:41.729905Z",
     "iopub.status.busy": "2024-11-26T14:05:41.729521Z",
     "iopub.status.idle": "2024-11-26T14:05:49.264010Z",
     "shell.execute_reply": "2024-11-26T14:05:49.262713Z"
    },
    "papermill": {
     "duration": 7.543757,
     "end_time": "2024-11-26T14:05:49.266811",
     "exception": false,
     "start_time": "2024-11-26T14:05:41.723054",
     "status": "completed"
    },
    "tags": []
   },
   "outputs": [],
   "source": [
    "res1 = qwen_reply(message=L[1])\n"
   ]
  },
  {
   "cell_type": "code",
   "execution_count": 10,
   "id": "32e4d45f",
   "metadata": {
    "execution": {
     "iopub.execute_input": "2024-11-26T14:05:49.278343Z",
     "iopub.status.busy": "2024-11-26T14:05:49.277924Z",
     "iopub.status.idle": "2024-11-26T14:05:49.284044Z",
     "shell.execute_reply": "2024-11-26T14:05:49.282772Z"
    },
    "papermill": {
     "duration": 0.014585,
     "end_time": "2024-11-26T14:05:49.286481",
     "exception": false,
     "start_time": "2024-11-26T14:05:49.271896",
     "status": "completed"
    },
    "tags": []
   },
   "outputs": [
    {
     "name": "stdout",
     "output_type": "stream",
     "text": [
      "Here's a simplified version of the passage:\n",
      "\n",
      "**What happened?**\n",
      "Calling `bytes_object.__buffer__(large_negative_number)` in a debug build of Python 3.14.0a1+ on Linux and Windows results in an assertion failure and the program aborts. The specific error message is:\n",
      "\n",
      "```\n",
      "Assertion `_Py_STATIC_CAST(Py_ssize_t, _Py_STATIC_CAST(int, (flags))) == (flags)' failed.\n",
      "```\n",
      "\n",
      "This issue was discovered using the `fusil` tool by @vstinner.\n"
     ]
    }
   ],
   "source": [
    "for i in res1.split('\\n'):\n",
    "    print(i)"
   ]
  },
  {
   "cell_type": "code",
   "execution_count": 11,
   "id": "c573cfe0",
   "metadata": {
    "execution": {
     "iopub.execute_input": "2024-11-26T14:05:49.298116Z",
     "iopub.status.busy": "2024-11-26T14:05:49.297715Z",
     "iopub.status.idle": "2024-11-26T14:05:59.991556Z",
     "shell.execute_reply": "2024-11-26T14:05:59.990166Z"
    },
    "papermill": {
     "duration": 10.702986,
     "end_time": "2024-11-26T14:05:59.994472",
     "exception": false,
     "start_time": "2024-11-26T14:05:49.291486",
     "status": "completed"
    },
    "tags": []
   },
   "outputs": [],
   "source": [
    "res2 = qwen_reply(message=L[2])"
   ]
  },
  {
   "cell_type": "code",
   "execution_count": 12,
   "id": "34b46c53",
   "metadata": {
    "execution": {
     "iopub.execute_input": "2024-11-26T14:06:00.008462Z",
     "iopub.status.busy": "2024-11-26T14:06:00.008040Z",
     "iopub.status.idle": "2024-11-26T14:06:00.014589Z",
     "shell.execute_reply": "2024-11-26T14:06:00.012892Z"
    },
    "papermill": {
     "duration": 0.017288,
     "end_time": "2024-11-26T14:06:00.017329",
     "exception": false,
     "start_time": "2024-11-26T14:06:00.000041",
     "status": "completed"
    },
    "tags": []
   },
   "outputs": [
    {
     "name": "stdout",
     "output_type": "stream",
     "text": [
      "Certainly! Here's a simplified version of the passage:\n",
      "\n",
      "The English description of the `fnmatch` module states that it supports Unix shell-style wildcards, which are _not_ the same as regular expressions.\n",
      "\n",
      "However, the Ukrainian translation incorrectly says that these wildcards _are the same_ as regular expressions, which is opposite to the intended meaning.\n",
      "\n",
      "The correct Ukrainian translation should be:\n",
      "\n",
      "- які _не_ відповідають регулярним виразам;\n",
      "- які _не_ те саме, що регулярні вирази;\n",
      "- які _відрізняються_ від регулярних виразів.\n"
     ]
    }
   ],
   "source": [
    "for i in res2.split('\\n'):\n",
    "    print(i)"
   ]
  },
  {
   "cell_type": "code",
   "execution_count": 13,
   "id": "f56799bb",
   "metadata": {
    "execution": {
     "iopub.execute_input": "2024-11-26T14:06:00.030007Z",
     "iopub.status.busy": "2024-11-26T14:06:00.029604Z",
     "iopub.status.idle": "2024-11-26T14:06:05.090106Z",
     "shell.execute_reply": "2024-11-26T14:06:05.088969Z"
    },
    "papermill": {
     "duration": 5.070088,
     "end_time": "2024-11-26T14:06:05.092788",
     "exception": false,
     "start_time": "2024-11-26T14:06:00.022700",
     "status": "completed"
    },
    "tags": []
   },
   "outputs": [],
   "source": [
    "res3 = qwen_reply(message=L[3])\n"
   ]
  },
  {
   "cell_type": "code",
   "execution_count": 14,
   "id": "a5fe3ac2",
   "metadata": {
    "execution": {
     "iopub.execute_input": "2024-11-26T14:06:05.106964Z",
     "iopub.status.busy": "2024-11-26T14:06:05.106424Z",
     "iopub.status.idle": "2024-11-26T14:06:05.113744Z",
     "shell.execute_reply": "2024-11-26T14:06:05.112172Z"
    },
    "papermill": {
     "duration": 0.018401,
     "end_time": "2024-11-26T14:06:05.116791",
     "exception": false,
     "start_time": "2024-11-26T14:06:05.098390",
     "status": "completed"
    },
    "tags": []
   },
   "outputs": [
    {
     "name": "stdout",
     "output_type": "stream",
     "text": [
      "Here's a simplified version of the passage:\n",
      "\n",
      "Bug description:\n",
      "- `datetime.utcnow()` raises a DeprecationWarning.\n",
      "- The warning suggests using `datetime.now(datetime.UTC)`, but this is incorrect because `datetime.UTC` does not exist.\n",
      "- The correct way to create a timezone-aware UTC datetime object is `datetime.now(timezone.utc)`.\n"
     ]
    }
   ],
   "source": [
    "for i in res3.split('\\n'):\n",
    "    print(i)"
   ]
  },
  {
   "cell_type": "code",
   "execution_count": 15,
   "id": "14337cd4",
   "metadata": {
    "execution": {
     "iopub.execute_input": "2024-11-26T14:06:05.131117Z",
     "iopub.status.busy": "2024-11-26T14:06:05.130710Z",
     "iopub.status.idle": "2024-11-26T14:06:17.882915Z",
     "shell.execute_reply": "2024-11-26T14:06:17.880932Z"
    },
    "papermill": {
     "duration": 12.766849,
     "end_time": "2024-11-26T14:06:17.888996",
     "exception": false,
     "start_time": "2024-11-26T14:06:05.122147",
     "status": "completed"
    },
    "tags": []
   },
   "outputs": [],
   "source": [
    "res4 = qwen_reply(message=L[4])"
   ]
  },
  {
   "cell_type": "code",
   "execution_count": 16,
   "id": "e9a8677c",
   "metadata": {
    "execution": {
     "iopub.execute_input": "2024-11-26T14:06:17.904108Z",
     "iopub.status.busy": "2024-11-26T14:06:17.903511Z",
     "iopub.status.idle": "2024-11-26T14:06:17.911110Z",
     "shell.execute_reply": "2024-11-26T14:06:17.909328Z"
    },
    "papermill": {
     "duration": 0.019626,
     "end_time": "2024-11-26T14:06:17.915749",
     "exception": false,
     "start_time": "2024-11-26T14:06:17.896123",
     "status": "completed"
    },
    "tags": []
   },
   "outputs": [
    {
     "name": "stdout",
     "output_type": "stream",
     "text": [
      "Here's a simplified version of the passage:\n",
      "\n",
      "Bug description:\n",
      "- `datetime.utcnow()` raises a DeprecationWarning.\n",
      "- The warning suggests using `datetime.now(datetime.UTC)`, but this is incorrect because `datetime.UTC` does not exist.\n",
      "- The correct way to create a timezone-aware UTC datetime object is `datetime.now(timezone.utc)`.\n"
     ]
    }
   ],
   "source": [
    "for i in res3.split('\\n'):\n",
    "    print(i)"
   ]
  },
  {
   "cell_type": "code",
   "execution_count": null,
   "id": "7e1428f3",
   "metadata": {
    "papermill": {
     "duration": 0.005189,
     "end_time": "2024-11-26T14:06:17.926955",
     "exception": false,
     "start_time": "2024-11-26T14:06:17.921766",
     "status": "completed"
    },
    "tags": []
   },
   "outputs": [],
   "source": []
  },
  {
   "cell_type": "code",
   "execution_count": null,
   "id": "6fb3522b",
   "metadata": {
    "papermill": {
     "duration": 0.006786,
     "end_time": "2024-11-26T14:06:17.940952",
     "exception": false,
     "start_time": "2024-11-26T14:06:17.934166",
     "status": "completed"
    },
    "tags": []
   },
   "outputs": [],
   "source": []
  },
  {
   "cell_type": "code",
   "execution_count": null,
   "id": "a063a968",
   "metadata": {
    "papermill": {
     "duration": 0.006029,
     "end_time": "2024-11-26T14:06:17.953075",
     "exception": false,
     "start_time": "2024-11-26T14:06:17.947046",
     "status": "completed"
    },
    "tags": []
   },
   "outputs": [],
   "source": []
  },
  {
   "cell_type": "code",
   "execution_count": null,
   "id": "06c74279",
   "metadata": {
    "papermill": {
     "duration": 0.005593,
     "end_time": "2024-11-26T14:06:17.965076",
     "exception": false,
     "start_time": "2024-11-26T14:06:17.959483",
     "status": "completed"
    },
    "tags": []
   },
   "outputs": [],
   "source": []
  },
  {
   "cell_type": "code",
   "execution_count": null,
   "id": "b0f95d33",
   "metadata": {
    "papermill": {
     "duration": 0.005445,
     "end_time": "2024-11-26T14:06:17.976171",
     "exception": false,
     "start_time": "2024-11-26T14:06:17.970726",
     "status": "completed"
    },
    "tags": []
   },
   "outputs": [],
   "source": []
  },
  {
   "cell_type": "code",
   "execution_count": null,
   "id": "2aee79ca",
   "metadata": {
    "papermill": {
     "duration": 0.005855,
     "end_time": "2024-11-26T14:06:17.988014",
     "exception": false,
     "start_time": "2024-11-26T14:06:17.982159",
     "status": "completed"
    },
    "tags": []
   },
   "outputs": [],
   "source": []
  },
  {
   "cell_type": "code",
   "execution_count": null,
   "id": "8e6e2b00",
   "metadata": {
    "papermill": {
     "duration": 0.006219,
     "end_time": "2024-11-26T14:06:18.000212",
     "exception": false,
     "start_time": "2024-11-26T14:06:17.993993",
     "status": "completed"
    },
    "tags": []
   },
   "outputs": [],
   "source": []
  },
  {
   "cell_type": "code",
   "execution_count": null,
   "id": "0b985cb2",
   "metadata": {
    "papermill": {
     "duration": 0.005669,
     "end_time": "2024-11-26T14:06:18.012010",
     "exception": false,
     "start_time": "2024-11-26T14:06:18.006341",
     "status": "completed"
    },
    "tags": []
   },
   "outputs": [],
   "source": []
  }
 ],
 "metadata": {
  "kaggle": {
   "accelerator": "none",
   "dataSources": [],
   "dockerImageVersionId": 30786,
   "isGpuEnabled": false,
   "isInternetEnabled": true,
   "language": "python",
   "sourceType": "notebook"
  },
  "kernelspec": {
   "display_name": "Python 3",
   "language": "python",
   "name": "python3"
  },
  "language_info": {
   "codemirror_mode": {
    "name": "ipython",
    "version": 3
   },
   "file_extension": ".py",
   "mimetype": "text/x-python",
   "name": "python",
   "nbconvert_exporter": "python",
   "pygments_lexer": "ipython3",
   "version": "3.10.14"
  },
  "papermill": {
   "default_parameters": {},
   "duration": 46.168192,
   "end_time": "2024-11-26T14:06:18.543329",
   "environment_variables": {},
   "exception": null,
   "input_path": "__notebook__.ipynb",
   "output_path": "__notebook__.ipynb",
   "parameters": {},
   "start_time": "2024-11-26T14:05:32.375137",
   "version": "2.6.0"
  }
 },
 "nbformat": 4,
 "nbformat_minor": 5
}
