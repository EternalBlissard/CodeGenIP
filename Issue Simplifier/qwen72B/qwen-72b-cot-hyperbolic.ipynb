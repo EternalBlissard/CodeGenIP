{
 "cells": [
  {
   "cell_type": "code",
   "execution_count": 1,
   "id": "b7c36ce9",
   "metadata": {
    "_cell_guid": "b1076dfc-b9ad-4769-8c92-a6c4dae69d19",
    "_uuid": "8f2839f25d086af736a60e9eeb907d3b93b6e0e5",
    "execution": {
     "iopub.execute_input": "2024-11-26T13:49:36.014496Z",
     "iopub.status.busy": "2024-11-26T13:49:36.013954Z",
     "iopub.status.idle": "2024-11-26T13:49:36.020888Z",
     "shell.execute_reply": "2024-11-26T13:49:36.019866Z"
    },
    "papermill": {
     "duration": 0.016712,
     "end_time": "2024-11-26T13:49:36.023263",
     "exception": false,
     "start_time": "2024-11-26T13:49:36.006551",
     "status": "completed"
    },
    "tags": []
   },
   "outputs": [],
   "source": [
    "# # This Python 3 environment comes with many helpful analytics libraries installed\n",
    "# # It is defined by the kaggle/python Docker image: https://github.com/kaggle/docker-python\n",
    "# # For example, here's several helpful packages to load\n",
    "\n",
    "# import numpy as np # linear algebra\n",
    "# import pandas as pd # data processing, CSV file I/O (e.g. pd.read_csv)\n",
    "\n",
    "# # Input data files are available in the read-only \"../input/\" directory\n",
    "# # For example, running this (by clicking run or pressing Shift+Enter) will list all files under the input directory\n",
    "\n",
    "# import os\n",
    "# for dirname, _, filenames in os.walk('/kaggle/input'):\n",
    "#     for filename in filenames:\n",
    "#         print(os.path.join(dirname, filename))\n",
    "\n",
    "# # You can write up to 20GB to the current directory (/kaggle/working/) that gets preserved as output when you create a version using \"Save & Run All\" \n",
    "# # You can also write temporary files to /kaggle/temp/, but they won't be saved outside of the current session"
   ]
  },
  {
   "cell_type": "code",
   "execution_count": 2,
   "id": "15202d75",
   "metadata": {
    "execution": {
     "iopub.execute_input": "2024-11-26T13:49:36.034380Z",
     "iopub.status.busy": "2024-11-26T13:49:36.034021Z",
     "iopub.status.idle": "2024-11-26T13:49:36.112944Z",
     "shell.execute_reply": "2024-11-26T13:49:36.111756Z"
    },
    "papermill": {
     "duration": 0.087353,
     "end_time": "2024-11-26T13:49:36.115648",
     "exception": false,
     "start_time": "2024-11-26T13:49:36.028295",
     "status": "completed"
    },
    "tags": []
   },
   "outputs": [],
   "source": [
    "import base64\n",
    "import requests\n",
    "from io import BytesIO\n",
    "from PIL import Image\n"
   ]
  },
  {
   "cell_type": "code",
   "execution_count": 3,
   "id": "9a6f8049",
   "metadata": {
    "execution": {
     "iopub.execute_input": "2024-11-26T13:49:36.126593Z",
     "iopub.status.busy": "2024-11-26T13:49:36.126185Z",
     "iopub.status.idle": "2024-11-26T13:49:36.319370Z",
     "shell.execute_reply": "2024-11-26T13:49:36.318322Z"
    },
    "papermill": {
     "duration": 0.201653,
     "end_time": "2024-11-26T13:49:36.321887",
     "exception": false,
     "start_time": "2024-11-26T13:49:36.120234",
     "status": "completed"
    },
    "tags": []
   },
   "outputs": [],
   "source": [
    "from kaggle_secrets import UserSecretsClient\n",
    "user_secrets = UserSecretsClient()\n",
    "secret_value_0 = user_secrets.get_secret(\"hyperbolic\")\n"
   ]
  },
  {
   "cell_type": "code",
   "execution_count": 4,
   "id": "2419e563",
   "metadata": {
    "execution": {
     "iopub.execute_input": "2024-11-26T13:49:36.335185Z",
     "iopub.status.busy": "2024-11-26T13:49:36.334767Z",
     "iopub.status.idle": "2024-11-26T13:49:36.342666Z",
     "shell.execute_reply": "2024-11-26T13:49:36.341532Z"
    },
    "papermill": {
     "duration": 0.016134,
     "end_time": "2024-11-26T13:49:36.344768",
     "exception": false,
     "start_time": "2024-11-26T13:49:36.328634",
     "status": "completed"
    },
    "tags": []
   },
   "outputs": [],
   "source": [
    "# from huggingface_hub import InferenceClient\n",
    "# client = InferenceClient(api_key=HF_TOKEN)\n",
    "\n",
    "def qwen_reply(temperature=0.5,max_tokens=1024, top_p=0.7, message=None):\n",
    "    # print(message)\n",
    "    if(message is None):\n",
    "        return \"No input received\"\n",
    "        \n",
    "    secret_value_0 = user_secrets.get_secret(\"hyperbolic\")\n",
    "    api = \"https://api.hyperbolic.xyz/v1/chat/completions\"\n",
    "    api_key = secret_value_0\n",
    "    \n",
    "    headers = {\n",
    "        \"Content-Type\": \"application/json\",\n",
    "        \"Authorization\": f\"Bearer {api_key}\",\n",
    "    }\n",
    "    \n",
    "    \n",
    "    payload = {\n",
    "    \"messages\": [\n",
    "        {\n",
    "            \"role\": \"system\",\n",
    "            \"content\": \"You are an expert logician\"\n",
    "        },\n",
    "        {\n",
    "            \"role\": \"user\",\n",
    "            \"content\": \"Simplify the given Passage.\"+message+\"SIMPLIFY THE ABOVE PASSAGE IN A STEP BY STEP MANNER\"\n",
    "        }\n",
    "    ],\n",
    "        \"model\": \"Qwen/Qwen2-VL-72B-Instruct\",\n",
    "        \"max_tokens\": max_tokens,\n",
    "        \"temperature\": temperature,\n",
    "        \"top_p\": top_p,\n",
    "    }\n",
    "    \n",
    "    response = requests.post(api, headers=headers, json=payload)\n",
    "    # print(response.json())\n",
    "    return response.json()['choices'][0]['message']['content']\n"
   ]
  },
  {
   "cell_type": "code",
   "execution_count": 5,
   "id": "2bdc5c8b",
   "metadata": {
    "execution": {
     "iopub.execute_input": "2024-11-26T13:49:36.355520Z",
     "iopub.status.busy": "2024-11-26T13:49:36.355154Z",
     "iopub.status.idle": "2024-11-26T13:49:36.359684Z",
     "shell.execute_reply": "2024-11-26T13:49:36.358549Z"
    },
    "papermill": {
     "duration": 0.012494,
     "end_time": "2024-11-26T13:49:36.361906",
     "exception": false,
     "start_time": "2024-11-26T13:49:36.349412",
     "status": "completed"
    },
    "tags": []
   },
   "outputs": [],
   "source": [
    "# response.json()['choices'][0]['message']['content']"
   ]
  },
  {
   "cell_type": "code",
   "execution_count": 6,
   "id": "37f2e175",
   "metadata": {
    "execution": {
     "iopub.execute_input": "2024-11-26T13:49:36.374865Z",
     "iopub.status.busy": "2024-11-26T13:49:36.373788Z",
     "iopub.status.idle": "2024-11-26T13:49:36.382081Z",
     "shell.execute_reply": "2024-11-26T13:49:36.381039Z"
    },
    "papermill": {
     "duration": 0.017632,
     "end_time": "2024-11-26T13:49:36.384292",
     "exception": false,
     "start_time": "2024-11-26T13:49:36.366660",
     "status": "completed"
    },
    "tags": []
   },
   "outputs": [],
   "source": [
    "L = [\n",
    "    \"\"\"What happened?\n",
    "Calling itertools.count(sys.maxsize) aborts with the following message:\n",
    "\n",
    "python -c \"from sys import maxsize; from itertools import count; count(maxsize)\"\n",
    "python: ./Modules/itertoolsmodule.c:3325: itertools_count_impl: Assertion `(cnt != PY_SSIZE_T_MAX && long_cnt == NULL && fast_mode) || (cnt == PY_SSIZE_T_MAX && long_cnt != NULL && !fast_mode)' failed.\n",
    "Aborted (core dumped)\n",
    "Found using fusil by @vstinner.\n",
    "\n",
    "CPython versions tested on:\n",
    "CPython main branch\n",
    "\n",
    "Operating systems tested on:\n",
    "Linux, Windows\n",
    "\n",
    "Output from running 'python -VV' on the command line:\n",
    "Python 3.14.0a1+ (heads/main:4ea214ea982, Nov 6 2024, 00:52:15) [MSC v.1941 64 bit (AMD64)]\n",
    "\n",
    "\"\"\",\n",
    "\"\"\"\n",
    "What happened?\n",
    "Calling bytes_object.__buffer__(large_negative_number) in a debug build aborts with this message:\n",
    "\n",
    ">>> b\"\".__buffer__(-2**31 - 1)\n",
    "python: Objects/typeobject.c:9321: wrap_buffer: Assertion `_Py_STATIC_CAST(Py_ssize_t, _Py_STATIC_CAST(int, (flags))) == (flags)' failed.\n",
    "Aborted\n",
    "Found using fusil by @vstinner.\n",
    "\n",
    "CPython versions tested on:\n",
    "CPython main branch\n",
    "\n",
    "Operating systems tested on:\n",
    "Linux, Windows\n",
    "\n",
    "Output from running 'python -VV' on the command line:\n",
    "Python 3.14.0a1+ (heads/main:4ea214ea982, Nov 6 2024, 00:52:15) [MSC v.1941 64 bit (AMD64)]\n",
    "\n",
    "\"\"\",\n",
    "    \"\"\"\n",
    "    Incorrect and misleading translation of the module fnmatch description, in the first phrase:\n",
    "\n",
    "EN: https://docs.python.org/3.13/library/fnmatch.html\n",
    "\n",
    "This module provides support for Unix shell-style wildcards, which are _not_ the same as regular expressions\n",
    "\n",
    "UK: https://docs.python.org/uk/3/library/fnmatch.html\n",
    "\n",
    "Цей модуль підтримує символи підстановки у стилі оболонки Unix, які _не_ відрізняються від регулярних виразів\n",
    "\n",
    "In this translation, the bold phrase in Ukrainian (UK) version means which _are the same_ as regular expressions. It is quite an opposite to the intended meaning!\n",
    "\n",
    "Correct translation of which are _not_ the same as is\n",
    "\n",
    "either: які _не_ відповідають регулярним виразам;\n",
    "or: які _не_ те саме, що регулярні вирази;\n",
    "or: які _відрізняються_ від регулярних виразів.\n",
    "\n",
    "    \"\"\",\n",
    "\n",
    "    \"\"\"\n",
    "    Bug description:\n",
    "from datetime import datetime\n",
    "time_with_warning = datetime.utcnow()\n",
    "time_with_error = datetime.now(datetime.UTC)\n",
    "time_is_correct = datetime.now(timezone.utc)\n",
    "When using datetime.datetime.utcnow(), Python raises a DeprecationWarning. The warning suggests using datetime.datetime.now(datetime.UTC) to create a timezone-aware UTC datetime object. However, this suggestion is incorrect because datetime.UTC does not exist in Python's datetime module. The correct approach should be datetime.datetime.now(timezone.utc).\n",
    "    \"\"\",\n",
    "    \"\"\"\n",
    "    Bug description:\n",
    "I'm using the zipfile module to create a ZIP file with thousands of members. Each file is created by creating a corresponding zipfile.Path object first and then calling .open() on it.\n",
    "\n",
    "The implementation of open() contains a check whether the file already exists when opening a file in read mode:\n",
    "\n",
    "if not self.exists() and zip_mode == 'r':\n",
    "    raise FileNotFoundError(self)\n",
    "However, self.exists() is called even in write mode, because it is the and operator's first argument.\n",
    "The call to self.exists() is quite slow however, because this requires the ZIP file's .namelist() to be computed, which in turn requires to compute all the implied directories. After all, this is the reason why the FastLookup optimization exists for ZIP files in read mode.\n",
    "\n",
    "I found this issue after profiling my application and was surprised that more than half of its execution time was spent in computing implied ZIP directories.\n",
    "\n",
    "I would propose to swap the and arguments so the check looks like this:\n",
    "\n",
    "if zip_mode == \"r\" and not self.exists():\n",
    "    raise FileNotFoundError(self)\n",
    "This will cause the self.exists() check to only be run in read mode, where the check is fast because of FastLookup anyway.\n",
    "\n",
    "I'm happy to provide a pull request with this change.\n",
    "\n",
    "CPython versions tested on:\n",
    "3.11, 3.12\n",
    "\n",
    "Operating systems tested on:\n",
    "Linux, macOS\n",
    "\n",
    "\n",
    "    \"\"\"\n",
    "]"
   ]
  },
  {
   "cell_type": "code",
   "execution_count": 7,
   "id": "2ae07949",
   "metadata": {
    "execution": {
     "iopub.execute_input": "2024-11-26T13:49:36.395099Z",
     "iopub.status.busy": "2024-11-26T13:49:36.394693Z",
     "iopub.status.idle": "2024-11-26T13:49:40.656702Z",
     "shell.execute_reply": "2024-11-26T13:49:40.655385Z"
    },
    "papermill": {
     "duration": 4.270449,
     "end_time": "2024-11-26T13:49:40.659418",
     "exception": false,
     "start_time": "2024-11-26T13:49:36.388969",
     "status": "completed"
    },
    "tags": []
   },
   "outputs": [],
   "source": [
    "res0 = qwen_reply(message=L[0])\n"
   ]
  },
  {
   "cell_type": "code",
   "execution_count": 8,
   "id": "05649635",
   "metadata": {
    "execution": {
     "iopub.execute_input": "2024-11-26T13:49:40.671144Z",
     "iopub.status.busy": "2024-11-26T13:49:40.670675Z",
     "iopub.status.idle": "2024-11-26T13:49:40.676721Z",
     "shell.execute_reply": "2024-11-26T13:49:40.675449Z"
    },
    "papermill": {
     "duration": 0.014684,
     "end_time": "2024-11-26T13:49:40.679128",
     "exception": false,
     "start_time": "2024-11-26T13:49:40.664444",
     "status": "completed"
    },
    "tags": []
   },
   "outputs": [
    {
     "name": "stdout",
     "output_type": "stream",
     "text": [
      "1. When trying to call `itertools.count(sys.maxsize)` in Python, an error occurs.\n",
      "  2. The error message indicates an assertion failure in the `itertools_count_impl` function.\n",
      "  3. The error was found using fusil by @vstinner.\n",
      "  4. The error was tested on CPython main branch and on Linux and Windows operating systems.\n",
      "  5. The Python version tested was 3.14.0a1+ (heads/main:4ea214ea982, Nov 6 2024, 00:52:15) [MSC v.1941 64 bit (AMD64)].\n"
     ]
    }
   ],
   "source": [
    "for i in res0.split('\\n'):\n",
    "    print(i)"
   ]
  },
  {
   "cell_type": "code",
   "execution_count": 9,
   "id": "75880242",
   "metadata": {
    "execution": {
     "iopub.execute_input": "2024-11-26T13:49:40.690292Z",
     "iopub.status.busy": "2024-11-26T13:49:40.689878Z",
     "iopub.status.idle": "2024-11-26T13:49:45.722411Z",
     "shell.execute_reply": "2024-11-26T13:49:45.721222Z"
    },
    "papermill": {
     "duration": 5.041473,
     "end_time": "2024-11-26T13:49:45.725236",
     "exception": false,
     "start_time": "2024-11-26T13:49:40.683763",
     "status": "completed"
    },
    "tags": []
   },
   "outputs": [],
   "source": [
    "res1 = qwen_reply(message=L[1])\n"
   ]
  },
  {
   "cell_type": "code",
   "execution_count": 10,
   "id": "8b091cf8",
   "metadata": {
    "execution": {
     "iopub.execute_input": "2024-11-26T13:49:45.736600Z",
     "iopub.status.busy": "2024-11-26T13:49:45.736242Z",
     "iopub.status.idle": "2024-11-26T13:49:45.742373Z",
     "shell.execute_reply": "2024-11-26T13:49:45.740957Z"
    },
    "papermill": {
     "duration": 0.015013,
     "end_time": "2024-11-26T13:49:45.745345",
     "exception": false,
     "start_time": "2024-11-26T13:49:45.730332",
     "status": "completed"
    },
    "tags": []
   },
   "outputs": [
    {
     "name": "stdout",
     "output_type": "stream",
     "text": [
      "1. When trying to call `bytes_object.__buffer__(large_negative_number)` in a debug build, an error occurs.\n",
      "  2. The error message is: \"Assertion `_Py_STATIC_CAST(Py_ssize_t, _Py_STATIC_CAST(int, (flags))) == (flags)' failed. Aborted\"\n",
      "  3. The error was found using fusil by @vstinner.\n",
      "  4. The error was tested on CPython main branch.\n",
      "  5. The error was tested on Linux and Windows operating systems.\n",
      "  6. The output from running 'python -VV' on the command line is: Python 3.14.0a1+ (heads/main:4ea214ea982, Nov 6 2024, 00:52:15) [MSC v.1941 64 bit (AMD64)]\n"
     ]
    }
   ],
   "source": [
    "for i in res1.split('\\n'):\n",
    "    print(i)"
   ]
  },
  {
   "cell_type": "code",
   "execution_count": 11,
   "id": "c24a3238",
   "metadata": {
    "execution": {
     "iopub.execute_input": "2024-11-26T13:49:45.758242Z",
     "iopub.status.busy": "2024-11-26T13:49:45.757823Z",
     "iopub.status.idle": "2024-11-26T13:49:51.111567Z",
     "shell.execute_reply": "2024-11-26T13:49:51.110304Z"
    },
    "papermill": {
     "duration": 5.363889,
     "end_time": "2024-11-26T13:49:51.114221",
     "exception": false,
     "start_time": "2024-11-26T13:49:45.750332",
     "status": "completed"
    },
    "tags": []
   },
   "outputs": [],
   "source": [
    "res2 = qwen_reply(message=L[2])"
   ]
  },
  {
   "cell_type": "code",
   "execution_count": 12,
   "id": "e26cf827",
   "metadata": {
    "execution": {
     "iopub.execute_input": "2024-11-26T13:49:51.126426Z",
     "iopub.status.busy": "2024-11-26T13:49:51.126024Z",
     "iopub.status.idle": "2024-11-26T13:49:51.131960Z",
     "shell.execute_reply": "2024-11-26T13:49:51.130836Z"
    },
    "papermill": {
     "duration": 0.014813,
     "end_time": "2024-11-26T13:49:51.134329",
     "exception": false,
     "start_time": "2024-11-26T13:49:51.119516",
     "status": "completed"
    },
    "tags": []
   },
   "outputs": [
    {
     "name": "stdout",
     "output_type": "stream",
     "text": [
      "1. The English version of the fnmatch module description says that Unix shell-style wildcards are not the same as regular expressions.\n",
      "2. The Ukrainian version incorrectly translates this to say that Unix shell-style wildcards are the same as regular expressions.\n",
      "3. This is the opposite of the intended meaning.\n",
      "4. The correct translation should say that Unix shell-style wildcards are not the same as regular expressions.\n",
      "5. Possible correct translations include: \"які _не_ відповідають регулярним виразам;\" \"які _не_ те саме, що регулярні вирази;\" or \"які _відрізняються_ від регулярних виразів.\"\n"
     ]
    }
   ],
   "source": [
    "for i in res2.split('\\n'):\n",
    "    print(i)"
   ]
  },
  {
   "cell_type": "code",
   "execution_count": 13,
   "id": "4195ff41",
   "metadata": {
    "execution": {
     "iopub.execute_input": "2024-11-26T13:49:51.146206Z",
     "iopub.status.busy": "2024-11-26T13:49:51.145806Z",
     "iopub.status.idle": "2024-11-26T13:49:53.697862Z",
     "shell.execute_reply": "2024-11-26T13:49:53.696787Z"
    },
    "papermill": {
     "duration": 2.560799,
     "end_time": "2024-11-26T13:49:53.700335",
     "exception": false,
     "start_time": "2024-11-26T13:49:51.139536",
     "status": "completed"
    },
    "tags": []
   },
   "outputs": [],
   "source": [
    "res3 = qwen_reply(message=L[3])\n"
   ]
  },
  {
   "cell_type": "code",
   "execution_count": 14,
   "id": "dd6bc1cf",
   "metadata": {
    "execution": {
     "iopub.execute_input": "2024-11-26T13:49:53.711733Z",
     "iopub.status.busy": "2024-11-26T13:49:53.711388Z",
     "iopub.status.idle": "2024-11-26T13:49:53.716813Z",
     "shell.execute_reply": "2024-11-26T13:49:53.715808Z"
    },
    "papermill": {
     "duration": 0.013898,
     "end_time": "2024-11-26T13:49:53.719265",
     "exception": false,
     "start_time": "2024-11-26T13:49:53.705367",
     "status": "completed"
    },
    "tags": []
   },
   "outputs": [
    {
     "name": "stdout",
     "output_type": "stream",
     "text": [
      "1. Python raises a DeprecationWarning when using datetime.datetime.utcnow().\n",
      "  2. The warning suggests using datetime.datetime.now(datetime.UTC) instead.\n",
      "  3. However, datetime.UTC does not exist in Python's datetime module.\n",
      "  4. The correct approach is to use datetime.datetime.now(timezone.utc) to create a timezone-aware UTC datetime object.\n"
     ]
    }
   ],
   "source": [
    "for i in res3.split('\\n'):\n",
    "    print(i)"
   ]
  },
  {
   "cell_type": "code",
   "execution_count": 15,
   "id": "68f2afcd",
   "metadata": {
    "execution": {
     "iopub.execute_input": "2024-11-26T13:49:53.731005Z",
     "iopub.status.busy": "2024-11-26T13:49:53.730623Z",
     "iopub.status.idle": "2024-11-26T13:50:00.582640Z",
     "shell.execute_reply": "2024-11-26T13:50:00.581423Z"
    },
    "papermill": {
     "duration": 6.861086,
     "end_time": "2024-11-26T13:50:00.585327",
     "exception": false,
     "start_time": "2024-11-26T13:49:53.724241",
     "status": "completed"
    },
    "tags": []
   },
   "outputs": [],
   "source": [
    "res4 = qwen_reply(message=L[4])"
   ]
  },
  {
   "cell_type": "code",
   "execution_count": 16,
   "id": "d035d6a5",
   "metadata": {
    "execution": {
     "iopub.execute_input": "2024-11-26T13:50:00.598282Z",
     "iopub.status.busy": "2024-11-26T13:50:00.597849Z",
     "iopub.status.idle": "2024-11-26T13:50:00.603643Z",
     "shell.execute_reply": "2024-11-26T13:50:00.602519Z"
    },
    "papermill": {
     "duration": 0.014691,
     "end_time": "2024-11-26T13:50:00.605864",
     "exception": false,
     "start_time": "2024-11-26T13:50:00.591173",
     "status": "completed"
    },
    "tags": []
   },
   "outputs": [
    {
     "name": "stdout",
     "output_type": "stream",
     "text": [
      "1. Python raises a DeprecationWarning when using datetime.datetime.utcnow().\n",
      "  2. The warning suggests using datetime.datetime.now(datetime.UTC) instead.\n",
      "  3. However, datetime.UTC does not exist in Python's datetime module.\n",
      "  4. The correct approach is to use datetime.datetime.now(timezone.utc) to create a timezone-aware UTC datetime object.\n"
     ]
    }
   ],
   "source": [
    "for i in res3.split('\\n'):\n",
    "    print(i)"
   ]
  },
  {
   "cell_type": "code",
   "execution_count": null,
   "id": "3258555d",
   "metadata": {
    "papermill": {
     "duration": 0.005044,
     "end_time": "2024-11-26T13:50:00.616120",
     "exception": false,
     "start_time": "2024-11-26T13:50:00.611076",
     "status": "completed"
    },
    "tags": []
   },
   "outputs": [],
   "source": []
  },
  {
   "cell_type": "code",
   "execution_count": null,
   "id": "0042b786",
   "metadata": {
    "papermill": {
     "duration": 0.004879,
     "end_time": "2024-11-26T13:50:00.626284",
     "exception": false,
     "start_time": "2024-11-26T13:50:00.621405",
     "status": "completed"
    },
    "tags": []
   },
   "outputs": [],
   "source": []
  },
  {
   "cell_type": "code",
   "execution_count": null,
   "id": "e95e6543",
   "metadata": {
    "papermill": {
     "duration": 0.004973,
     "end_time": "2024-11-26T13:50:00.637096",
     "exception": false,
     "start_time": "2024-11-26T13:50:00.632123",
     "status": "completed"
    },
    "tags": []
   },
   "outputs": [],
   "source": []
  },
  {
   "cell_type": "code",
   "execution_count": null,
   "id": "4f31e568",
   "metadata": {
    "papermill": {
     "duration": 0.005741,
     "end_time": "2024-11-26T13:50:00.648170",
     "exception": false,
     "start_time": "2024-11-26T13:50:00.642429",
     "status": "completed"
    },
    "tags": []
   },
   "outputs": [],
   "source": []
  },
  {
   "cell_type": "code",
   "execution_count": null,
   "id": "c200fb61",
   "metadata": {
    "papermill": {
     "duration": 0.005041,
     "end_time": "2024-11-26T13:50:00.658432",
     "exception": false,
     "start_time": "2024-11-26T13:50:00.653391",
     "status": "completed"
    },
    "tags": []
   },
   "outputs": [],
   "source": []
  },
  {
   "cell_type": "code",
   "execution_count": null,
   "id": "71a1b05e",
   "metadata": {
    "papermill": {
     "duration": 0.004944,
     "end_time": "2024-11-26T13:50:00.668649",
     "exception": false,
     "start_time": "2024-11-26T13:50:00.663705",
     "status": "completed"
    },
    "tags": []
   },
   "outputs": [],
   "source": []
  },
  {
   "cell_type": "code",
   "execution_count": null,
   "id": "1cda1381",
   "metadata": {
    "papermill": {
     "duration": 0.005026,
     "end_time": "2024-11-26T13:50:00.679417",
     "exception": false,
     "start_time": "2024-11-26T13:50:00.674391",
     "status": "completed"
    },
    "tags": []
   },
   "outputs": [],
   "source": []
  },
  {
   "cell_type": "code",
   "execution_count": null,
   "id": "7752c1a8",
   "metadata": {
    "papermill": {
     "duration": 0.005005,
     "end_time": "2024-11-26T13:50:00.689561",
     "exception": false,
     "start_time": "2024-11-26T13:50:00.684556",
     "status": "completed"
    },
    "tags": []
   },
   "outputs": [],
   "source": []
  }
 ],
 "metadata": {
  "kaggle": {
   "accelerator": "none",
   "dataSources": [],
   "dockerImageVersionId": 30786,
   "isGpuEnabled": false,
   "isInternetEnabled": true,
   "language": "python",
   "sourceType": "notebook"
  },
  "kernelspec": {
   "display_name": "Python 3",
   "language": "python",
   "name": "python3"
  },
  "language_info": {
   "codemirror_mode": {
    "name": "ipython",
    "version": 3
   },
   "file_extension": ".py",
   "mimetype": "text/x-python",
   "name": "python",
   "nbconvert_exporter": "python",
   "pygments_lexer": "ipython3",
   "version": "3.10.14"
  },
  "papermill": {
   "default_parameters": {},
   "duration": 27.908224,
   "end_time": "2024-11-26T13:50:01.116064",
   "environment_variables": {},
   "exception": null,
   "input_path": "__notebook__.ipynb",
   "output_path": "__notebook__.ipynb",
   "parameters": {},
   "start_time": "2024-11-26T13:49:33.207840",
   "version": "2.6.0"
  }
 },
 "nbformat": 4,
 "nbformat_minor": 5
}
