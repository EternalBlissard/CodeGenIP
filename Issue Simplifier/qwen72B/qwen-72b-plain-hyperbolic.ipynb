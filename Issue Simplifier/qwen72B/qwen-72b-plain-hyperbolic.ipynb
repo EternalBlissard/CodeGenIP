{
 "cells": [
  {
   "cell_type": "code",
   "execution_count": 1,
   "id": "a8042e35",
   "metadata": {
    "_cell_guid": "b1076dfc-b9ad-4769-8c92-a6c4dae69d19",
    "_uuid": "8f2839f25d086af736a60e9eeb907d3b93b6e0e5",
    "execution": {
     "iopub.execute_input": "2024-11-26T13:53:29.614355Z",
     "iopub.status.busy": "2024-11-26T13:53:29.613932Z",
     "iopub.status.idle": "2024-11-26T13:53:29.619825Z",
     "shell.execute_reply": "2024-11-26T13:53:29.618958Z"
    },
    "papermill": {
     "duration": 0.014896,
     "end_time": "2024-11-26T13:53:29.621921",
     "exception": false,
     "start_time": "2024-11-26T13:53:29.607025",
     "status": "completed"
    },
    "tags": []
   },
   "outputs": [],
   "source": [
    "# # This Python 3 environment comes with many helpful analytics libraries installed\n",
    "# # It is defined by the kaggle/python Docker image: https://github.com/kaggle/docker-python\n",
    "# # For example, here's several helpful packages to load\n",
    "\n",
    "# import numpy as np # linear algebra\n",
    "# import pandas as pd # data processing, CSV file I/O (e.g. pd.read_csv)\n",
    "\n",
    "# # Input data files are available in the read-only \"../input/\" directory\n",
    "# # For example, running this (by clicking run or pressing Shift+Enter) will list all files under the input directory\n",
    "\n",
    "# import os\n",
    "# for dirname, _, filenames in os.walk('/kaggle/input'):\n",
    "#     for filename in filenames:\n",
    "#         print(os.path.join(dirname, filename))\n",
    "\n",
    "# # You can write up to 20GB to the current directory (/kaggle/working/) that gets preserved as output when you create a version using \"Save & Run All\" \n",
    "# # You can also write temporary files to /kaggle/temp/, but they won't be saved outside of the current session"
   ]
  },
  {
   "cell_type": "code",
   "execution_count": 2,
   "id": "fd025c78",
   "metadata": {
    "execution": {
     "iopub.execute_input": "2024-11-26T13:53:29.632806Z",
     "iopub.status.busy": "2024-11-26T13:53:29.632419Z",
     "iopub.status.idle": "2024-11-26T13:53:29.709247Z",
     "shell.execute_reply": "2024-11-26T13:53:29.708162Z"
    },
    "papermill": {
     "duration": 0.08498,
     "end_time": "2024-11-26T13:53:29.711710",
     "exception": false,
     "start_time": "2024-11-26T13:53:29.626730",
     "status": "completed"
    },
    "tags": []
   },
   "outputs": [],
   "source": [
    "import base64\n",
    "import requests\n",
    "from io import BytesIO\n",
    "from PIL import Image\n"
   ]
  },
  {
   "cell_type": "code",
   "execution_count": 3,
   "id": "758c46f9",
   "metadata": {
    "execution": {
     "iopub.execute_input": "2024-11-26T13:53:29.723056Z",
     "iopub.status.busy": "2024-11-26T13:53:29.722673Z",
     "iopub.status.idle": "2024-11-26T13:53:29.900621Z",
     "shell.execute_reply": "2024-11-26T13:53:29.899750Z"
    },
    "papermill": {
     "duration": 0.186276,
     "end_time": "2024-11-26T13:53:29.903017",
     "exception": false,
     "start_time": "2024-11-26T13:53:29.716741",
     "status": "completed"
    },
    "tags": []
   },
   "outputs": [],
   "source": [
    "from kaggle_secrets import UserSecretsClient\n",
    "user_secrets = UserSecretsClient()\n",
    "secret_value_0 = user_secrets.get_secret(\"hyperbolic\")\n"
   ]
  },
  {
   "cell_type": "code",
   "execution_count": 4,
   "id": "1376507e",
   "metadata": {
    "execution": {
     "iopub.execute_input": "2024-11-26T13:53:29.915194Z",
     "iopub.status.busy": "2024-11-26T13:53:29.914776Z",
     "iopub.status.idle": "2024-11-26T13:53:29.922457Z",
     "shell.execute_reply": "2024-11-26T13:53:29.921368Z"
    },
    "papermill": {
     "duration": 0.016355,
     "end_time": "2024-11-26T13:53:29.924692",
     "exception": false,
     "start_time": "2024-11-26T13:53:29.908337",
     "status": "completed"
    },
    "tags": []
   },
   "outputs": [],
   "source": [
    "# from huggingface_hub import InferenceClient\n",
    "# client = InferenceClient(api_key=HF_TOKEN)\n",
    "\n",
    "def qwen_reply(temperature=0.5,max_tokens=1024, top_p=0.7, message=None):\n",
    "    # print(message)\n",
    "    if(message is None):\n",
    "        return \"No input received\"\n",
    "        \n",
    "    secret_value_0 = user_secrets.get_secret(\"hyperbolic\")\n",
    "    api = \"https://api.hyperbolic.xyz/v1/chat/completions\"\n",
    "    api_key = secret_value_0\n",
    "    \n",
    "    headers = {\n",
    "        \"Content-Type\": \"application/json\",\n",
    "        \"Authorization\": f\"Bearer {api_key}\",\n",
    "    }\n",
    "    \n",
    "    \n",
    "    payload = {\n",
    "    \"messages\": [\n",
    "        {\n",
    "            \"role\": \"system\",\n",
    "            \"content\": \"You are an expert logician\"\n",
    "        },\n",
    "        {\n",
    "            \"role\": \"user\",\n",
    "            \"content\": \"Simplify the given Passage.\"+message+\"SIMPLIFY THE ABOVE PASSAGE\"\n",
    "        }\n",
    "    ],\n",
    "        \"model\": \"Qwen/Qwen2-VL-72B-Instruct\",\n",
    "        \"max_tokens\": max_tokens,\n",
    "        \"temperature\": temperature,\n",
    "        \"top_p\": top_p,\n",
    "    }\n",
    "    \n",
    "    response = requests.post(api, headers=headers, json=payload)\n",
    "    # print(response.json())\n",
    "    return response.json()['choices'][0]['message']['content']\n"
   ]
  },
  {
   "cell_type": "code",
   "execution_count": 5,
   "id": "f5adc216",
   "metadata": {
    "execution": {
     "iopub.execute_input": "2024-11-26T13:53:29.935467Z",
     "iopub.status.busy": "2024-11-26T13:53:29.935069Z",
     "iopub.status.idle": "2024-11-26T13:53:29.939481Z",
     "shell.execute_reply": "2024-11-26T13:53:29.938416Z"
    },
    "papermill": {
     "duration": 0.011911,
     "end_time": "2024-11-26T13:53:29.941303",
     "exception": false,
     "start_time": "2024-11-26T13:53:29.929392",
     "status": "completed"
    },
    "tags": []
   },
   "outputs": [],
   "source": [
    "# response.json()['choices'][0]['message']['content']"
   ]
  },
  {
   "cell_type": "code",
   "execution_count": 6,
   "id": "d87344c2",
   "metadata": {
    "execution": {
     "iopub.execute_input": "2024-11-26T13:53:29.952851Z",
     "iopub.status.busy": "2024-11-26T13:53:29.952515Z",
     "iopub.status.idle": "2024-11-26T13:53:29.960413Z",
     "shell.execute_reply": "2024-11-26T13:53:29.959386Z"
    },
    "papermill": {
     "duration": 0.016723,
     "end_time": "2024-11-26T13:53:29.962514",
     "exception": false,
     "start_time": "2024-11-26T13:53:29.945791",
     "status": "completed"
    },
    "tags": []
   },
   "outputs": [],
   "source": [
    "L = [\n",
    "    \"\"\"What happened?\n",
    "Calling itertools.count(sys.maxsize) aborts with the following message:\n",
    "\n",
    "python -c \"from sys import maxsize; from itertools import count; count(maxsize)\"\n",
    "python: ./Modules/itertoolsmodule.c:3325: itertools_count_impl: Assertion `(cnt != PY_SSIZE_T_MAX && long_cnt == NULL && fast_mode) || (cnt == PY_SSIZE_T_MAX && long_cnt != NULL && !fast_mode)' failed.\n",
    "Aborted (core dumped)\n",
    "Found using fusil by @vstinner.\n",
    "\n",
    "CPython versions tested on:\n",
    "CPython main branch\n",
    "\n",
    "Operating systems tested on:\n",
    "Linux, Windows\n",
    "\n",
    "Output from running 'python -VV' on the command line:\n",
    "Python 3.14.0a1+ (heads/main:4ea214ea982, Nov 6 2024, 00:52:15) [MSC v.1941 64 bit (AMD64)]\n",
    "\n",
    "\"\"\",\n",
    "\"\"\"\n",
    "What happened?\n",
    "Calling bytes_object.__buffer__(large_negative_number) in a debug build aborts with this message:\n",
    "\n",
    ">>> b\"\".__buffer__(-2**31 - 1)\n",
    "python: Objects/typeobject.c:9321: wrap_buffer: Assertion `_Py_STATIC_CAST(Py_ssize_t, _Py_STATIC_CAST(int, (flags))) == (flags)' failed.\n",
    "Aborted\n",
    "Found using fusil by @vstinner.\n",
    "\n",
    "CPython versions tested on:\n",
    "CPython main branch\n",
    "\n",
    "Operating systems tested on:\n",
    "Linux, Windows\n",
    "\n",
    "Output from running 'python -VV' on the command line:\n",
    "Python 3.14.0a1+ (heads/main:4ea214ea982, Nov 6 2024, 00:52:15) [MSC v.1941 64 bit (AMD64)]\n",
    "\n",
    "\"\"\",\n",
    "    \"\"\"\n",
    "    Incorrect and misleading translation of the module fnmatch description, in the first phrase:\n",
    "\n",
    "EN: https://docs.python.org/3.13/library/fnmatch.html\n",
    "\n",
    "This module provides support for Unix shell-style wildcards, which are _not_ the same as regular expressions\n",
    "\n",
    "UK: https://docs.python.org/uk/3/library/fnmatch.html\n",
    "\n",
    "Цей модуль підтримує символи підстановки у стилі оболонки Unix, які _не_ відрізняються від регулярних виразів\n",
    "\n",
    "In this translation, the bold phrase in Ukrainian (UK) version means which _are the same_ as regular expressions. It is quite an opposite to the intended meaning!\n",
    "\n",
    "Correct translation of which are _not_ the same as is\n",
    "\n",
    "either: які _не_ відповідають регулярним виразам;\n",
    "or: які _не_ те саме, що регулярні вирази;\n",
    "or: які _відрізняються_ від регулярних виразів.\n",
    "\n",
    "    \"\"\",\n",
    "\n",
    "    \"\"\"\n",
    "    Bug description:\n",
    "from datetime import datetime\n",
    "time_with_warning = datetime.utcnow()\n",
    "time_with_error = datetime.now(datetime.UTC)\n",
    "time_is_correct = datetime.now(timezone.utc)\n",
    "When using datetime.datetime.utcnow(), Python raises a DeprecationWarning. The warning suggests using datetime.datetime.now(datetime.UTC) to create a timezone-aware UTC datetime object. However, this suggestion is incorrect because datetime.UTC does not exist in Python's datetime module. The correct approach should be datetime.datetime.now(timezone.utc).\n",
    "    \"\"\",\n",
    "    \"\"\"\n",
    "    Bug description:\n",
    "I'm using the zipfile module to create a ZIP file with thousands of members. Each file is created by creating a corresponding zipfile.Path object first and then calling .open() on it.\n",
    "\n",
    "The implementation of open() contains a check whether the file already exists when opening a file in read mode:\n",
    "\n",
    "if not self.exists() and zip_mode == 'r':\n",
    "    raise FileNotFoundError(self)\n",
    "However, self.exists() is called even in write mode, because it is the and operator's first argument.\n",
    "The call to self.exists() is quite slow however, because this requires the ZIP file's .namelist() to be computed, which in turn requires to compute all the implied directories. After all, this is the reason why the FastLookup optimization exists for ZIP files in read mode.\n",
    "\n",
    "I found this issue after profiling my application and was surprised that more than half of its execution time was spent in computing implied ZIP directories.\n",
    "\n",
    "I would propose to swap the and arguments so the check looks like this:\n",
    "\n",
    "if zip_mode == \"r\" and not self.exists():\n",
    "    raise FileNotFoundError(self)\n",
    "This will cause the self.exists() check to only be run in read mode, where the check is fast because of FastLookup anyway.\n",
    "\n",
    "I'm happy to provide a pull request with this change.\n",
    "\n",
    "CPython versions tested on:\n",
    "3.11, 3.12\n",
    "\n",
    "Operating systems tested on:\n",
    "Linux, macOS\n",
    "\n",
    "\n",
    "    \"\"\"\n",
    "]"
   ]
  },
  {
   "cell_type": "code",
   "execution_count": 7,
   "id": "a327b567",
   "metadata": {
    "execution": {
     "iopub.execute_input": "2024-11-26T13:53:29.973253Z",
     "iopub.status.busy": "2024-11-26T13:53:29.972504Z",
     "iopub.status.idle": "2024-11-26T13:53:34.163535Z",
     "shell.execute_reply": "2024-11-26T13:53:34.162589Z"
    },
    "papermill": {
     "duration": 4.198917,
     "end_time": "2024-11-26T13:53:34.165899",
     "exception": false,
     "start_time": "2024-11-26T13:53:29.966982",
     "status": "completed"
    },
    "tags": []
   },
   "outputs": [],
   "source": [
    "res0 = qwen_reply(message=L[0])\n"
   ]
  },
  {
   "cell_type": "code",
   "execution_count": 8,
   "id": "ca8eae35",
   "metadata": {
    "execution": {
     "iopub.execute_input": "2024-11-26T13:53:34.177122Z",
     "iopub.status.busy": "2024-11-26T13:53:34.176272Z",
     "iopub.status.idle": "2024-11-26T13:53:34.181837Z",
     "shell.execute_reply": "2024-11-26T13:53:34.180742Z"
    },
    "papermill": {
     "duration": 0.013396,
     "end_time": "2024-11-26T13:53:34.183975",
     "exception": false,
     "start_time": "2024-11-26T13:53:34.170579",
     "status": "completed"
    },
    "tags": []
   },
   "outputs": [
    {
     "name": "stdout",
     "output_type": "stream",
     "text": [
      "When trying to run a Python command that calls `itertools.count(sys.maxsize)`, the program crashes and gives an error message indicating an assertion failure in the itertools module. This issue has been found using fusil by @vstinner and tested on CPython main branch on Linux and Windows. The Python version is 3.14.0a1+ (heads/main:4ea214ea982, Nov 6 2024, 00:52:15) [MSC v.1941 64 bit (AMD64)].\n"
     ]
    }
   ],
   "source": [
    "for i in res0.split('\\n'):\n",
    "    print(i)"
   ]
  },
  {
   "cell_type": "code",
   "execution_count": 9,
   "id": "cd17cbc3",
   "metadata": {
    "execution": {
     "iopub.execute_input": "2024-11-26T13:53:34.194805Z",
     "iopub.status.busy": "2024-11-26T13:53:34.194175Z",
     "iopub.status.idle": "2024-11-26T13:53:38.571256Z",
     "shell.execute_reply": "2024-11-26T13:53:38.570096Z"
    },
    "papermill": {
     "duration": 4.385197,
     "end_time": "2024-11-26T13:53:38.573776",
     "exception": false,
     "start_time": "2024-11-26T13:53:34.188579",
     "status": "completed"
    },
    "tags": []
   },
   "outputs": [],
   "source": [
    "res1 = qwen_reply(message=L[1])\n"
   ]
  },
  {
   "cell_type": "code",
   "execution_count": 10,
   "id": "0de4b43a",
   "metadata": {
    "execution": {
     "iopub.execute_input": "2024-11-26T13:53:38.584641Z",
     "iopub.status.busy": "2024-11-26T13:53:38.584270Z",
     "iopub.status.idle": "2024-11-26T13:53:38.590713Z",
     "shell.execute_reply": "2024-11-26T13:53:38.588932Z"
    },
    "papermill": {
     "duration": 0.014458,
     "end_time": "2024-11-26T13:53:38.593064",
     "exception": false,
     "start_time": "2024-11-26T13:53:38.578606",
     "status": "completed"
    },
    "tags": []
   },
   "outputs": [
    {
     "name": "stdout",
     "output_type": "stream",
     "text": [
      "The attempt to call `bytes_object.__buffer__(large_negative_number)` in a debug build of Python resulted in an error message indicating an assertion failure. This issue was discovered using fusil by @vstinner. The error was tested on CPython's main branch and on both Linux and Windows operating systems. The Python version tested was 3.14.0a1+ (heads/main:4ea214ea982, Nov 6 2024, 00:52:15) [MSC v.1941 64 bit (AMD64)].\n"
     ]
    }
   ],
   "source": [
    "for i in res1.split('\\n'):\n",
    "    print(i)"
   ]
  },
  {
   "cell_type": "code",
   "execution_count": 11,
   "id": "12626dd0",
   "metadata": {
    "execution": {
     "iopub.execute_input": "2024-11-26T13:53:38.604283Z",
     "iopub.status.busy": "2024-11-26T13:53:38.603859Z",
     "iopub.status.idle": "2024-11-26T13:53:41.746346Z",
     "shell.execute_reply": "2024-11-26T13:53:41.745424Z"
    },
    "papermill": {
     "duration": 3.150935,
     "end_time": "2024-11-26T13:53:41.748862",
     "exception": false,
     "start_time": "2024-11-26T13:53:38.597927",
     "status": "completed"
    },
    "tags": []
   },
   "outputs": [],
   "source": [
    "res2 = qwen_reply(message=L[2])"
   ]
  },
  {
   "cell_type": "code",
   "execution_count": 12,
   "id": "f941759c",
   "metadata": {
    "execution": {
     "iopub.execute_input": "2024-11-26T13:53:41.760983Z",
     "iopub.status.busy": "2024-11-26T13:53:41.760046Z",
     "iopub.status.idle": "2024-11-26T13:53:41.765922Z",
     "shell.execute_reply": "2024-11-26T13:53:41.764789Z"
    },
    "papermill": {
     "duration": 0.013773,
     "end_time": "2024-11-26T13:53:41.767917",
     "exception": false,
     "start_time": "2024-11-26T13:53:41.754144",
     "status": "completed"
    },
    "tags": []
   },
   "outputs": [
    {
     "name": "stdout",
     "output_type": "stream",
     "text": [
      "The Ukrainian translation of the fnmatch module description incorrectly states that Unix shell-style wildcards are the same as regular expressions, which is opposite to the intended meaning. The correct translation should indicate that Unix shell-style wildcards are not the same as regular expressions.\n"
     ]
    }
   ],
   "source": [
    "for i in res2.split('\\n'):\n",
    "    print(i)"
   ]
  },
  {
   "cell_type": "code",
   "execution_count": 13,
   "id": "9a5c81e3",
   "metadata": {
    "execution": {
     "iopub.execute_input": "2024-11-26T13:53:41.779238Z",
     "iopub.status.busy": "2024-11-26T13:53:41.778854Z",
     "iopub.status.idle": "2024-11-26T13:53:44.066029Z",
     "shell.execute_reply": "2024-11-26T13:53:44.064986Z"
    },
    "papermill": {
     "duration": 2.29576,
     "end_time": "2024-11-26T13:53:44.068580",
     "exception": false,
     "start_time": "2024-11-26T13:53:41.772820",
     "status": "completed"
    },
    "tags": []
   },
   "outputs": [],
   "source": [
    "res3 = qwen_reply(message=L[3])\n"
   ]
  },
  {
   "cell_type": "code",
   "execution_count": 14,
   "id": "4c5b02d2",
   "metadata": {
    "execution": {
     "iopub.execute_input": "2024-11-26T13:53:44.082138Z",
     "iopub.status.busy": "2024-11-26T13:53:44.081029Z",
     "iopub.status.idle": "2024-11-26T13:53:44.086656Z",
     "shell.execute_reply": "2024-11-26T13:53:44.085596Z"
    },
    "papermill": {
     "duration": 0.014144,
     "end_time": "2024-11-26T13:53:44.088596",
     "exception": false,
     "start_time": "2024-11-26T13:53:44.074452",
     "status": "completed"
    },
    "tags": []
   },
   "outputs": [
    {
     "name": "stdout",
     "output_type": "stream",
     "text": [
      "The passage describes a bug in Python's datetime module where using `datetime.datetime.utcnow()` raises a DeprecationWarning. The warning suggests using `datetime.datetime.now(datetime.UTC)` to create a timezone-aware UTC datetime object, but this is incorrect because `datetime.UTC` does not exist in the module. The correct approach is to use `datetime.datetime.now(timezone.utc)`.\n"
     ]
    }
   ],
   "source": [
    "for i in res3.split('\\n'):\n",
    "    print(i)"
   ]
  },
  {
   "cell_type": "code",
   "execution_count": 15,
   "id": "678b76a2",
   "metadata": {
    "execution": {
     "iopub.execute_input": "2024-11-26T13:53:44.100456Z",
     "iopub.status.busy": "2024-11-26T13:53:44.100054Z",
     "iopub.status.idle": "2024-11-26T13:53:47.982965Z",
     "shell.execute_reply": "2024-11-26T13:53:47.981638Z"
    },
    "papermill": {
     "duration": 3.891722,
     "end_time": "2024-11-26T13:53:47.985562",
     "exception": false,
     "start_time": "2024-11-26T13:53:44.093840",
     "status": "completed"
    },
    "tags": []
   },
   "outputs": [],
   "source": [
    "res4 = qwen_reply(message=L[4])"
   ]
  },
  {
   "cell_type": "code",
   "execution_count": 16,
   "id": "11e6c15d",
   "metadata": {
    "execution": {
     "iopub.execute_input": "2024-11-26T13:53:47.997732Z",
     "iopub.status.busy": "2024-11-26T13:53:47.997353Z",
     "iopub.status.idle": "2024-11-26T13:53:48.002532Z",
     "shell.execute_reply": "2024-11-26T13:53:48.001416Z"
    },
    "papermill": {
     "duration": 0.013948,
     "end_time": "2024-11-26T13:53:48.004864",
     "exception": false,
     "start_time": "2024-11-26T13:53:47.990916",
     "status": "completed"
    },
    "tags": []
   },
   "outputs": [
    {
     "name": "stdout",
     "output_type": "stream",
     "text": [
      "The passage describes a bug in Python's datetime module where using `datetime.datetime.utcnow()` raises a DeprecationWarning. The warning suggests using `datetime.datetime.now(datetime.UTC)` to create a timezone-aware UTC datetime object, but this is incorrect because `datetime.UTC` does not exist in the module. The correct approach is to use `datetime.datetime.now(timezone.utc)`.\n"
     ]
    }
   ],
   "source": [
    "for i in res3.split('\\n'):\n",
    "    print(i)"
   ]
  },
  {
   "cell_type": "code",
   "execution_count": null,
   "id": "d8223c94",
   "metadata": {
    "papermill": {
     "duration": 0.004873,
     "end_time": "2024-11-26T13:53:48.014892",
     "exception": false,
     "start_time": "2024-11-26T13:53:48.010019",
     "status": "completed"
    },
    "tags": []
   },
   "outputs": [],
   "source": []
  },
  {
   "cell_type": "code",
   "execution_count": null,
   "id": "7d54f700",
   "metadata": {
    "papermill": {
     "duration": 0.004764,
     "end_time": "2024-11-26T13:53:48.024980",
     "exception": false,
     "start_time": "2024-11-26T13:53:48.020216",
     "status": "completed"
    },
    "tags": []
   },
   "outputs": [],
   "source": []
  },
  {
   "cell_type": "code",
   "execution_count": null,
   "id": "b0da701f",
   "metadata": {
    "papermill": {
     "duration": 0.004833,
     "end_time": "2024-11-26T13:53:48.034803",
     "exception": false,
     "start_time": "2024-11-26T13:53:48.029970",
     "status": "completed"
    },
    "tags": []
   },
   "outputs": [],
   "source": []
  },
  {
   "cell_type": "code",
   "execution_count": null,
   "id": "80e895f9",
   "metadata": {
    "papermill": {
     "duration": 0.004889,
     "end_time": "2024-11-26T13:53:48.044883",
     "exception": false,
     "start_time": "2024-11-26T13:53:48.039994",
     "status": "completed"
    },
    "tags": []
   },
   "outputs": [],
   "source": []
  },
  {
   "cell_type": "code",
   "execution_count": null,
   "id": "b3d9a1d9",
   "metadata": {
    "papermill": {
     "duration": 0.004732,
     "end_time": "2024-11-26T13:53:48.054637",
     "exception": false,
     "start_time": "2024-11-26T13:53:48.049905",
     "status": "completed"
    },
    "tags": []
   },
   "outputs": [],
   "source": []
  },
  {
   "cell_type": "code",
   "execution_count": null,
   "id": "58a2a94a",
   "metadata": {
    "papermill": {
     "duration": 0.004863,
     "end_time": "2024-11-26T13:53:48.064541",
     "exception": false,
     "start_time": "2024-11-26T13:53:48.059678",
     "status": "completed"
    },
    "tags": []
   },
   "outputs": [],
   "source": []
  },
  {
   "cell_type": "code",
   "execution_count": null,
   "id": "bca3ee52",
   "metadata": {
    "papermill": {
     "duration": 0.00478,
     "end_time": "2024-11-26T13:53:48.074387",
     "exception": false,
     "start_time": "2024-11-26T13:53:48.069607",
     "status": "completed"
    },
    "tags": []
   },
   "outputs": [],
   "source": []
  },
  {
   "cell_type": "code",
   "execution_count": null,
   "id": "57143b92",
   "metadata": {
    "papermill": {
     "duration": 0.004602,
     "end_time": "2024-11-26T13:53:48.083893",
     "exception": false,
     "start_time": "2024-11-26T13:53:48.079291",
     "status": "completed"
    },
    "tags": []
   },
   "outputs": [],
   "source": []
  }
 ],
 "metadata": {
  "kaggle": {
   "accelerator": "none",
   "dataSources": [],
   "dockerImageVersionId": 30786,
   "isGpuEnabled": false,
   "isInternetEnabled": true,
   "language": "python",
   "sourceType": "notebook"
  },
  "kernelspec": {
   "display_name": "Python 3",
   "language": "python",
   "name": "python3"
  },
  "language_info": {
   "codemirror_mode": {
    "name": "ipython",
    "version": 3
   },
   "file_extension": ".py",
   "mimetype": "text/x-python",
   "name": "python",
   "nbconvert_exporter": "python",
   "pygments_lexer": "ipython3",
   "version": "3.10.14"
  },
  "papermill": {
   "default_parameters": {},
   "duration": 21.63926,
   "end_time": "2024-11-26T13:53:48.509329",
   "environment_variables": {},
   "exception": null,
   "input_path": "__notebook__.ipynb",
   "output_path": "__notebook__.ipynb",
   "parameters": {},
   "start_time": "2024-11-26T13:53:26.870069",
   "version": "2.6.0"
  }
 },
 "nbformat": 4,
 "nbformat_minor": 5
}
