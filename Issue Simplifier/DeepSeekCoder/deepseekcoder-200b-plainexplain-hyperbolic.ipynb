{
 "cells": [
  {
   "cell_type": "code",
   "execution_count": 1,
   "id": "f3095779",
   "metadata": {
    "_cell_guid": "b1076dfc-b9ad-4769-8c92-a6c4dae69d19",
    "_uuid": "8f2839f25d086af736a60e9eeb907d3b93b6e0e5",
    "execution": {
     "iopub.execute_input": "2024-11-27T20:12:28.343704Z",
     "iopub.status.busy": "2024-11-27T20:12:28.343309Z",
     "iopub.status.idle": "2024-11-27T20:12:28.349460Z",
     "shell.execute_reply": "2024-11-27T20:12:28.348605Z"
    },
    "papermill": {
     "duration": 0.014853,
     "end_time": "2024-11-27T20:12:28.351485",
     "exception": false,
     "start_time": "2024-11-27T20:12:28.336632",
     "status": "completed"
    },
    "tags": []
   },
   "outputs": [],
   "source": [
    "# # This Python 3 environment comes with many helpful analytics libraries installed\n",
    "# # It is defined by the kaggle/python Docker image: https://github.com/kaggle/docker-python\n",
    "# # For example, here's several helpful packages to load\n",
    "\n",
    "# import numpy as np # linear algebra\n",
    "# import pandas as pd # data processing, CSV file I/O (e.g. pd.read_csv)\n",
    "\n",
    "# # Input data files are available in the read-only \"../input/\" directory\n",
    "# # For example, running this (by clicking run or pressing Shift+Enter) will list all files under the input directory\n",
    "\n",
    "# import os\n",
    "# for dirname, _, filenames in os.walk('/kaggle/input'):\n",
    "#     for filename in filenames:\n",
    "#         print(os.path.join(dirname, filename))\n",
    "\n",
    "# # You can write up to 20GB to the current directory (/kaggle/working/) that gets preserved as output when you create a version using \"Save & Run All\" \n",
    "# # You can also write temporary files to /kaggle/temp/, but they won't be saved outside of the current session"
   ]
  },
  {
   "cell_type": "code",
   "execution_count": 2,
   "id": "aac67f8d",
   "metadata": {
    "execution": {
     "iopub.execute_input": "2024-11-27T20:12:28.362443Z",
     "iopub.status.busy": "2024-11-27T20:12:28.361564Z",
     "iopub.status.idle": "2024-11-27T20:12:28.436068Z",
     "shell.execute_reply": "2024-11-27T20:12:28.434981Z"
    },
    "papermill": {
     "duration": 0.082336,
     "end_time": "2024-11-27T20:12:28.438481",
     "exception": false,
     "start_time": "2024-11-27T20:12:28.356145",
     "status": "completed"
    },
    "tags": []
   },
   "outputs": [],
   "source": [
    "import base64\n",
    "import requests\n",
    "from io import BytesIO\n",
    "from PIL import Image\n"
   ]
  },
  {
   "cell_type": "code",
   "execution_count": 3,
   "id": "36521d45",
   "metadata": {
    "execution": {
     "iopub.execute_input": "2024-11-27T20:12:28.449281Z",
     "iopub.status.busy": "2024-11-27T20:12:28.448870Z",
     "iopub.status.idle": "2024-11-27T20:12:28.935374Z",
     "shell.execute_reply": "2024-11-27T20:12:28.934413Z"
    },
    "papermill": {
     "duration": 0.494597,
     "end_time": "2024-11-27T20:12:28.937839",
     "exception": false,
     "start_time": "2024-11-27T20:12:28.443242",
     "status": "completed"
    },
    "tags": []
   },
   "outputs": [],
   "source": [
    "from kaggle_secrets import UserSecretsClient\n",
    "user_secrets = UserSecretsClient()\n",
    "secret_value_0 = user_secrets.get_secret(\"hyperbolic\")\n"
   ]
  },
  {
   "cell_type": "code",
   "execution_count": 4,
   "id": "15ee17f8",
   "metadata": {
    "execution": {
     "iopub.execute_input": "2024-11-27T20:12:28.948894Z",
     "iopub.status.busy": "2024-11-27T20:12:28.948498Z",
     "iopub.status.idle": "2024-11-27T20:12:28.956142Z",
     "shell.execute_reply": "2024-11-27T20:12:28.955063Z"
    },
    "papermill": {
     "duration": 0.015689,
     "end_time": "2024-11-27T20:12:28.958117",
     "exception": false,
     "start_time": "2024-11-27T20:12:28.942428",
     "status": "completed"
    },
    "tags": []
   },
   "outputs": [],
   "source": [
    "# from huggingface_hub import InferenceClient\n",
    "# client = InferenceClient(api_key=HF_TOKEN)\n",
    "\n",
    "def qwen_reply(temperature=0.5,max_tokens=1024, top_p=0.7, message=None):\n",
    "    # print(message)\n",
    "    if(message is None):\n",
    "        return \"No input received\"\n",
    "        \n",
    "    secret_value_0 = user_secrets.get_secret(\"hyperbolic\")\n",
    "    api = \"https://api.hyperbolic.xyz/v1/chat/completions\"\n",
    "    api_key = secret_value_0\n",
    "    \n",
    "    headers = {\n",
    "        \"Content-Type\": \"application/json\",\n",
    "        \"Authorization\": f\"Bearer {api_key}\",\n",
    "    }\n",
    "    \n",
    "    \n",
    "    payload = {\n",
    "    \"messages\": [\n",
    "        {\n",
    "            \"role\": \"system\",\n",
    "            \"content\": \"You are an expert logician\"\n",
    "        },\n",
    "        {\n",
    "            \"role\": \"user\",\n",
    "            \"content\": \"Explain the below passage\"+message+\"EXPLIN THE ABOVE PASSAGE IN DETAIL\"\n",
    "        }\n",
    "    ],\n",
    "        \"model\": 'deepseek-ai/DeepSeek-V2.5',\n",
    "        \"max_tokens\": max_tokens,\n",
    "        \"temperature\": temperature,\n",
    "        \"top_p\": top_p,\n",
    "    }\n",
    "    \n",
    "    response = requests.post(api, headers=headers, json=payload)\n",
    "    # print(response.json())\n",
    "    return response.json()['choices'][0]['message']['content']\n"
   ]
  },
  {
   "cell_type": "code",
   "execution_count": 5,
   "id": "d39caec0",
   "metadata": {
    "execution": {
     "iopub.execute_input": "2024-11-27T20:12:28.968789Z",
     "iopub.status.busy": "2024-11-27T20:12:28.968410Z",
     "iopub.status.idle": "2024-11-27T20:12:28.972773Z",
     "shell.execute_reply": "2024-11-27T20:12:28.971802Z"
    },
    "papermill": {
     "duration": 0.012008,
     "end_time": "2024-11-27T20:12:28.974688",
     "exception": false,
     "start_time": "2024-11-27T20:12:28.962680",
     "status": "completed"
    },
    "tags": []
   },
   "outputs": [],
   "source": [
    "# response.json()['choices'][0]['message']['content']"
   ]
  },
  {
   "cell_type": "code",
   "execution_count": 6,
   "id": "4c116521",
   "metadata": {
    "execution": {
     "iopub.execute_input": "2024-11-27T20:12:28.986412Z",
     "iopub.status.busy": "2024-11-27T20:12:28.986051Z",
     "iopub.status.idle": "2024-11-27T20:12:28.993183Z",
     "shell.execute_reply": "2024-11-27T20:12:28.992251Z"
    },
    "papermill": {
     "duration": 0.016025,
     "end_time": "2024-11-27T20:12:28.995205",
     "exception": false,
     "start_time": "2024-11-27T20:12:28.979180",
     "status": "completed"
    },
    "tags": []
   },
   "outputs": [],
   "source": [
    "L = [\n",
    "    \"\"\"What happened?\n",
    "Calling itertools.count(sys.maxsize) aborts with the following message:\n",
    "\n",
    "python -c \"from sys import maxsize; from itertools import count; count(maxsize)\"\n",
    "python: ./Modules/itertoolsmodule.c:3325: itertools_count_impl: Assertion `(cnt != PY_SSIZE_T_MAX && long_cnt == NULL && fast_mode) || (cnt == PY_SSIZE_T_MAX && long_cnt != NULL && !fast_mode)' failed.\n",
    "Aborted (core dumped)\n",
    "Found using fusil by @vstinner.\n",
    "\n",
    "CPython versions tested on:\n",
    "CPython main branch\n",
    "\n",
    "Operating systems tested on:\n",
    "Linux, Windows\n",
    "\n",
    "Output from running 'python -VV' on the command line:\n",
    "Python 3.14.0a1+ (heads/main:4ea214ea982, Nov 6 2024, 00:52:15) [MSC v.1941 64 bit (AMD64)]\n",
    "\n",
    "\"\"\",\n",
    "\"\"\"\n",
    "What happened?\n",
    "Calling bytes_object.__buffer__(large_negative_number) in a debug build aborts with this message:\n",
    "\n",
    ">>> b\"\".__buffer__(-2**31 - 1)\n",
    "python: Objects/typeobject.c:9321: wrap_buffer: Assertion `_Py_STATIC_CAST(Py_ssize_t, _Py_STATIC_CAST(int, (flags))) == (flags)' failed.\n",
    "Aborted\n",
    "Found using fusil by @vstinner.\n",
    "\n",
    "CPython versions tested on:\n",
    "CPython main branch\n",
    "\n",
    "Operating systems tested on:\n",
    "Linux, Windows\n",
    "\n",
    "Output from running 'python -VV' on the command line:\n",
    "Python 3.14.0a1+ (heads/main:4ea214ea982, Nov 6 2024, 00:52:15) [MSC v.1941 64 bit (AMD64)]\n",
    "\n",
    "\"\"\",\n",
    "    \"\"\"\n",
    "    Incorrect and misleading translation of the module fnmatch description, in the first phrase:\n",
    "\n",
    "EN: https://docs.python.org/3.13/library/fnmatch.html\n",
    "\n",
    "This module provides support for Unix shell-style wildcards, which are _not_ the same as regular expressions\n",
    "\n",
    "UK: https://docs.python.org/uk/3/library/fnmatch.html\n",
    "\n",
    "Цей модуль підтримує символи підстановки у стилі оболонки Unix, які _не_ відрізняються від регулярних виразів\n",
    "\n",
    "In this translation, the bold phrase in Ukrainian (UK) version means which _are the same_ as regular expressions. It is quite an opposite to the intended meaning!\n",
    "\n",
    "Correct translation of which are _not_ the same as is\n",
    "\n",
    "either: які _не_ відповідають регулярним виразам;\n",
    "or: які _не_ те саме, що регулярні вирази;\n",
    "or: які _відрізняються_ від регулярних виразів.\n",
    "\n",
    "    \"\"\",\n",
    "\n",
    "    \"\"\"\n",
    "    Bug description:\n",
    "from datetime import datetime\n",
    "time_with_warning = datetime.utcnow()\n",
    "time_with_error = datetime.now(datetime.UTC)\n",
    "time_is_correct = datetime.now(timezone.utc)\n",
    "When using datetime.datetime.utcnow(), Python raises a DeprecationWarning. The warning suggests using datetime.datetime.now(datetime.UTC) to create a timezone-aware UTC datetime object. However, this suggestion is incorrect because datetime.UTC does not exist in Python's datetime module. The correct approach should be datetime.datetime.now(timezone.utc).\n",
    "    \"\"\",\n",
    "    \"\"\"\n",
    "    Bug description:\n",
    "I'm using the zipfile module to create a ZIP file with thousands of members. Each file is created by creating a corresponding zipfile.Path object first and then calling .open() on it.\n",
    "\n",
    "The implementation of open() contains a check whether the file already exists when opening a file in read mode:\n",
    "\n",
    "if not self.exists() and zip_mode == 'r':\n",
    "    raise FileNotFoundError(self)\n",
    "However, self.exists() is called even in write mode, because it is the and operator's first argument.\n",
    "The call to self.exists() is quite slow however, because this requires the ZIP file's .namelist() to be computed, which in turn requires to compute all the implied directories. After all, this is the reason why the FastLookup optimization exists for ZIP files in read mode.\n",
    "\n",
    "I found this issue after profiling my application and was surprised that more than half of its execution time was spent in computing implied ZIP directories.\n",
    "\n",
    "I would propose to swap the and arguments so the check looks like this:\n",
    "\n",
    "if zip_mode == \"r\" and not self.exists():\n",
    "    raise FileNotFoundError(self)\n",
    "This will cause the self.exists() check to only be run in read mode, where the check is fast because of FastLookup anyway.\n",
    "\n",
    "I'm happy to provide a pull request with this change.\n",
    "\n",
    "CPython versions tested on:\n",
    "3.11, 3.12\n",
    "\n",
    "Operating systems tested on:\n",
    "Linux, macOS\n",
    "\n",
    "\n",
    "    \"\"\"\n",
    "]"
   ]
  },
  {
   "cell_type": "code",
   "execution_count": 7,
   "id": "56b2e784",
   "metadata": {
    "execution": {
     "iopub.execute_input": "2024-11-27T20:12:29.005835Z",
     "iopub.status.busy": "2024-11-27T20:12:29.005461Z",
     "iopub.status.idle": "2024-11-27T20:14:10.334300Z",
     "shell.execute_reply": "2024-11-27T20:14:10.332851Z"
    },
    "papermill": {
     "duration": 101.340656,
     "end_time": "2024-11-27T20:14:10.340261",
     "exception": true,
     "start_time": "2024-11-27T20:12:28.999605",
     "status": "failed"
    },
    "tags": []
   },
   "outputs": [
    {
     "ename": "JSONDecodeError",
     "evalue": "Expecting value: line 1 column 1 (char 0)",
     "output_type": "error",
     "traceback": [
      "\u001b[0;31m---------------------------------------------------------------------------\u001b[0m",
      "\u001b[0;31mJSONDecodeError\u001b[0m                           Traceback (most recent call last)",
      "File \u001b[0;32m/opt/conda/lib/python3.10/site-packages/requests/models.py:974\u001b[0m, in \u001b[0;36mResponse.json\u001b[0;34m(self, **kwargs)\u001b[0m\n\u001b[1;32m    973\u001b[0m \u001b[38;5;28;01mtry\u001b[39;00m:\n\u001b[0;32m--> 974\u001b[0m     \u001b[38;5;28;01mreturn\u001b[39;00m \u001b[43mcomplexjson\u001b[49m\u001b[38;5;241;43m.\u001b[39;49m\u001b[43mloads\u001b[49m\u001b[43m(\u001b[49m\u001b[38;5;28;43mself\u001b[39;49m\u001b[38;5;241;43m.\u001b[39;49m\u001b[43mtext\u001b[49m\u001b[43m,\u001b[49m\u001b[43m \u001b[49m\u001b[38;5;241;43m*\u001b[39;49m\u001b[38;5;241;43m*\u001b[39;49m\u001b[43mkwargs\u001b[49m\u001b[43m)\u001b[49m\n\u001b[1;32m    975\u001b[0m \u001b[38;5;28;01mexcept\u001b[39;00m JSONDecodeError \u001b[38;5;28;01mas\u001b[39;00m e:\n\u001b[1;32m    976\u001b[0m     \u001b[38;5;66;03m# Catch JSON-related errors and raise as requests.JSONDecodeError\u001b[39;00m\n\u001b[1;32m    977\u001b[0m     \u001b[38;5;66;03m# This aliases json.JSONDecodeError and simplejson.JSONDecodeError\u001b[39;00m\n",
      "File \u001b[0;32m/opt/conda/lib/python3.10/json/__init__.py:346\u001b[0m, in \u001b[0;36mloads\u001b[0;34m(s, cls, object_hook, parse_float, parse_int, parse_constant, object_pairs_hook, **kw)\u001b[0m\n\u001b[1;32m    343\u001b[0m \u001b[38;5;28;01mif\u001b[39;00m (\u001b[38;5;28mcls\u001b[39m \u001b[38;5;129;01mis\u001b[39;00m \u001b[38;5;28;01mNone\u001b[39;00m \u001b[38;5;129;01mand\u001b[39;00m object_hook \u001b[38;5;129;01mis\u001b[39;00m \u001b[38;5;28;01mNone\u001b[39;00m \u001b[38;5;129;01mand\u001b[39;00m\n\u001b[1;32m    344\u001b[0m         parse_int \u001b[38;5;129;01mis\u001b[39;00m \u001b[38;5;28;01mNone\u001b[39;00m \u001b[38;5;129;01mand\u001b[39;00m parse_float \u001b[38;5;129;01mis\u001b[39;00m \u001b[38;5;28;01mNone\u001b[39;00m \u001b[38;5;129;01mand\u001b[39;00m\n\u001b[1;32m    345\u001b[0m         parse_constant \u001b[38;5;129;01mis\u001b[39;00m \u001b[38;5;28;01mNone\u001b[39;00m \u001b[38;5;129;01mand\u001b[39;00m object_pairs_hook \u001b[38;5;129;01mis\u001b[39;00m \u001b[38;5;28;01mNone\u001b[39;00m \u001b[38;5;129;01mand\u001b[39;00m \u001b[38;5;129;01mnot\u001b[39;00m kw):\n\u001b[0;32m--> 346\u001b[0m     \u001b[38;5;28;01mreturn\u001b[39;00m \u001b[43m_default_decoder\u001b[49m\u001b[38;5;241;43m.\u001b[39;49m\u001b[43mdecode\u001b[49m\u001b[43m(\u001b[49m\u001b[43ms\u001b[49m\u001b[43m)\u001b[49m\n\u001b[1;32m    347\u001b[0m \u001b[38;5;28;01mif\u001b[39;00m \u001b[38;5;28mcls\u001b[39m \u001b[38;5;129;01mis\u001b[39;00m \u001b[38;5;28;01mNone\u001b[39;00m:\n",
      "File \u001b[0;32m/opt/conda/lib/python3.10/json/decoder.py:337\u001b[0m, in \u001b[0;36mJSONDecoder.decode\u001b[0;34m(self, s, _w)\u001b[0m\n\u001b[1;32m    333\u001b[0m \u001b[38;5;250m\u001b[39m\u001b[38;5;124;03m\"\"\"Return the Python representation of ``s`` (a ``str`` instance\u001b[39;00m\n\u001b[1;32m    334\u001b[0m \u001b[38;5;124;03mcontaining a JSON document).\u001b[39;00m\n\u001b[1;32m    335\u001b[0m \n\u001b[1;32m    336\u001b[0m \u001b[38;5;124;03m\"\"\"\u001b[39;00m\n\u001b[0;32m--> 337\u001b[0m obj, end \u001b[38;5;241m=\u001b[39m \u001b[38;5;28;43mself\u001b[39;49m\u001b[38;5;241;43m.\u001b[39;49m\u001b[43mraw_decode\u001b[49m\u001b[43m(\u001b[49m\u001b[43ms\u001b[49m\u001b[43m,\u001b[49m\u001b[43m \u001b[49m\u001b[43midx\u001b[49m\u001b[38;5;241;43m=\u001b[39;49m\u001b[43m_w\u001b[49m\u001b[43m(\u001b[49m\u001b[43ms\u001b[49m\u001b[43m,\u001b[49m\u001b[43m \u001b[49m\u001b[38;5;241;43m0\u001b[39;49m\u001b[43m)\u001b[49m\u001b[38;5;241;43m.\u001b[39;49m\u001b[43mend\u001b[49m\u001b[43m(\u001b[49m\u001b[43m)\u001b[49m\u001b[43m)\u001b[49m\n\u001b[1;32m    338\u001b[0m end \u001b[38;5;241m=\u001b[39m _w(s, end)\u001b[38;5;241m.\u001b[39mend()\n",
      "File \u001b[0;32m/opt/conda/lib/python3.10/json/decoder.py:355\u001b[0m, in \u001b[0;36mJSONDecoder.raw_decode\u001b[0;34m(self, s, idx)\u001b[0m\n\u001b[1;32m    354\u001b[0m \u001b[38;5;28;01mexcept\u001b[39;00m \u001b[38;5;167;01mStopIteration\u001b[39;00m \u001b[38;5;28;01mas\u001b[39;00m err:\n\u001b[0;32m--> 355\u001b[0m     \u001b[38;5;28;01mraise\u001b[39;00m JSONDecodeError(\u001b[38;5;124m\"\u001b[39m\u001b[38;5;124mExpecting value\u001b[39m\u001b[38;5;124m\"\u001b[39m, s, err\u001b[38;5;241m.\u001b[39mvalue) \u001b[38;5;28;01mfrom\u001b[39;00m \u001b[38;5;28;01mNone\u001b[39;00m\n\u001b[1;32m    356\u001b[0m \u001b[38;5;28;01mreturn\u001b[39;00m obj, end\n",
      "\u001b[0;31mJSONDecodeError\u001b[0m: Expecting value: line 1 column 1 (char 0)",
      "\nDuring handling of the above exception, another exception occurred:\n",
      "\u001b[0;31mJSONDecodeError\u001b[0m                           Traceback (most recent call last)",
      "Cell \u001b[0;32mIn[7], line 1\u001b[0m\n\u001b[0;32m----> 1\u001b[0m res0 \u001b[38;5;241m=\u001b[39m \u001b[43mqwen_reply\u001b[49m\u001b[43m(\u001b[49m\u001b[43mmessage\u001b[49m\u001b[38;5;241;43m=\u001b[39;49m\u001b[43mL\u001b[49m\u001b[43m[\u001b[49m\u001b[38;5;241;43m0\u001b[39;49m\u001b[43m]\u001b[49m\u001b[43m)\u001b[49m\n",
      "Cell \u001b[0;32mIn[4], line 38\u001b[0m, in \u001b[0;36mqwen_reply\u001b[0;34m(temperature, max_tokens, top_p, message)\u001b[0m\n\u001b[1;32m     36\u001b[0m response \u001b[38;5;241m=\u001b[39m requests\u001b[38;5;241m.\u001b[39mpost(api, headers\u001b[38;5;241m=\u001b[39mheaders, json\u001b[38;5;241m=\u001b[39mpayload)\n\u001b[1;32m     37\u001b[0m \u001b[38;5;66;03m# print(response.json())\u001b[39;00m\n\u001b[0;32m---> 38\u001b[0m \u001b[38;5;28;01mreturn\u001b[39;00m \u001b[43mresponse\u001b[49m\u001b[38;5;241;43m.\u001b[39;49m\u001b[43mjson\u001b[49m\u001b[43m(\u001b[49m\u001b[43m)\u001b[49m[\u001b[38;5;124m'\u001b[39m\u001b[38;5;124mchoices\u001b[39m\u001b[38;5;124m'\u001b[39m][\u001b[38;5;241m0\u001b[39m][\u001b[38;5;124m'\u001b[39m\u001b[38;5;124mmessage\u001b[39m\u001b[38;5;124m'\u001b[39m][\u001b[38;5;124m'\u001b[39m\u001b[38;5;124mcontent\u001b[39m\u001b[38;5;124m'\u001b[39m]\n",
      "File \u001b[0;32m/opt/conda/lib/python3.10/site-packages/requests/models.py:978\u001b[0m, in \u001b[0;36mResponse.json\u001b[0;34m(self, **kwargs)\u001b[0m\n\u001b[1;32m    974\u001b[0m     \u001b[38;5;28;01mreturn\u001b[39;00m complexjson\u001b[38;5;241m.\u001b[39mloads(\u001b[38;5;28mself\u001b[39m\u001b[38;5;241m.\u001b[39mtext, \u001b[38;5;241m*\u001b[39m\u001b[38;5;241m*\u001b[39mkwargs)\n\u001b[1;32m    975\u001b[0m \u001b[38;5;28;01mexcept\u001b[39;00m JSONDecodeError \u001b[38;5;28;01mas\u001b[39;00m e:\n\u001b[1;32m    976\u001b[0m     \u001b[38;5;66;03m# Catch JSON-related errors and raise as requests.JSONDecodeError\u001b[39;00m\n\u001b[1;32m    977\u001b[0m     \u001b[38;5;66;03m# This aliases json.JSONDecodeError and simplejson.JSONDecodeError\u001b[39;00m\n\u001b[0;32m--> 978\u001b[0m     \u001b[38;5;28;01mraise\u001b[39;00m RequestsJSONDecodeError(e\u001b[38;5;241m.\u001b[39mmsg, e\u001b[38;5;241m.\u001b[39mdoc, e\u001b[38;5;241m.\u001b[39mpos)\n",
      "\u001b[0;31mJSONDecodeError\u001b[0m: Expecting value: line 1 column 1 (char 0)"
     ]
    }
   ],
   "source": [
    "res0 = qwen_reply(message=L[0])\n"
   ]
  },
  {
   "cell_type": "code",
   "execution_count": null,
   "id": "d11206ef",
   "metadata": {
    "execution": {
     "iopub.execute_input": "2024-11-26T13:44:20.613311Z",
     "iopub.status.busy": "2024-11-26T13:44:20.612965Z",
     "iopub.status.idle": "2024-11-26T13:44:20.620696Z",
     "shell.execute_reply": "2024-11-26T13:44:20.619335Z",
     "shell.execute_reply.started": "2024-11-26T13:44:20.61328Z"
    },
    "papermill": {
     "duration": null,
     "end_time": null,
     "exception": null,
     "start_time": null,
     "status": "pending"
    },
    "tags": []
   },
   "outputs": [],
   "source": [
    "for i in res0.split('\\n'):\n",
    "    print(i)"
   ]
  },
  {
   "cell_type": "code",
   "execution_count": null,
   "id": "353a5532",
   "metadata": {
    "papermill": {
     "duration": null,
     "end_time": null,
     "exception": null,
     "start_time": null,
     "status": "pending"
    },
    "tags": []
   },
   "outputs": [],
   "source": [
    "res1 = qwen_reply(message=L[1])\n"
   ]
  },
  {
   "cell_type": "code",
   "execution_count": null,
   "id": "e04e9621",
   "metadata": {
    "papermill": {
     "duration": null,
     "end_time": null,
     "exception": null,
     "start_time": null,
     "status": "pending"
    },
    "tags": []
   },
   "outputs": [],
   "source": [
    "for i in res1.split('\\n'):\n",
    "    print(i)"
   ]
  },
  {
   "cell_type": "code",
   "execution_count": null,
   "id": "00cc5db4",
   "metadata": {
    "papermill": {
     "duration": null,
     "end_time": null,
     "exception": null,
     "start_time": null,
     "status": "pending"
    },
    "tags": []
   },
   "outputs": [],
   "source": [
    "res2 = qwen_reply(message=L[2])"
   ]
  },
  {
   "cell_type": "code",
   "execution_count": null,
   "id": "82c1b0b0",
   "metadata": {
    "papermill": {
     "duration": null,
     "end_time": null,
     "exception": null,
     "start_time": null,
     "status": "pending"
    },
    "tags": []
   },
   "outputs": [],
   "source": [
    "for i in res2.split('\\n'):\n",
    "    print(i)"
   ]
  },
  {
   "cell_type": "code",
   "execution_count": null,
   "id": "3ac2bb9b",
   "metadata": {
    "papermill": {
     "duration": null,
     "end_time": null,
     "exception": null,
     "start_time": null,
     "status": "pending"
    },
    "tags": []
   },
   "outputs": [],
   "source": [
    "res3 = qwen_reply(message=L[3])\n"
   ]
  },
  {
   "cell_type": "code",
   "execution_count": null,
   "id": "e5d2de16",
   "metadata": {
    "papermill": {
     "duration": null,
     "end_time": null,
     "exception": null,
     "start_time": null,
     "status": "pending"
    },
    "tags": []
   },
   "outputs": [],
   "source": [
    "for i in res3.split('\\n'):\n",
    "    print(i)"
   ]
  },
  {
   "cell_type": "code",
   "execution_count": null,
   "id": "87437c1c",
   "metadata": {
    "papermill": {
     "duration": null,
     "end_time": null,
     "exception": null,
     "start_time": null,
     "status": "pending"
    },
    "tags": []
   },
   "outputs": [],
   "source": [
    "res4 = qwen_reply(message=L[4])"
   ]
  },
  {
   "cell_type": "code",
   "execution_count": null,
   "id": "455ddf5f",
   "metadata": {
    "papermill": {
     "duration": null,
     "end_time": null,
     "exception": null,
     "start_time": null,
     "status": "pending"
    },
    "tags": []
   },
   "outputs": [],
   "source": [
    "for i in res3.split('\\n'):\n",
    "    print(i)"
   ]
  },
  {
   "cell_type": "code",
   "execution_count": null,
   "id": "c2732398",
   "metadata": {
    "papermill": {
     "duration": null,
     "end_time": null,
     "exception": null,
     "start_time": null,
     "status": "pending"
    },
    "tags": []
   },
   "outputs": [],
   "source": []
  },
  {
   "cell_type": "code",
   "execution_count": null,
   "id": "577e21dc",
   "metadata": {
    "papermill": {
     "duration": null,
     "end_time": null,
     "exception": null,
     "start_time": null,
     "status": "pending"
    },
    "tags": []
   },
   "outputs": [],
   "source": []
  },
  {
   "cell_type": "code",
   "execution_count": null,
   "id": "53ce67dc",
   "metadata": {
    "papermill": {
     "duration": null,
     "end_time": null,
     "exception": null,
     "start_time": null,
     "status": "pending"
    },
    "tags": []
   },
   "outputs": [],
   "source": []
  },
  {
   "cell_type": "code",
   "execution_count": null,
   "id": "ad966850",
   "metadata": {
    "papermill": {
     "duration": null,
     "end_time": null,
     "exception": null,
     "start_time": null,
     "status": "pending"
    },
    "tags": []
   },
   "outputs": [],
   "source": []
  },
  {
   "cell_type": "code",
   "execution_count": null,
   "id": "3f2907d3",
   "metadata": {
    "papermill": {
     "duration": null,
     "end_time": null,
     "exception": null,
     "start_time": null,
     "status": "pending"
    },
    "tags": []
   },
   "outputs": [],
   "source": []
  },
  {
   "cell_type": "code",
   "execution_count": null,
   "id": "30cd03f1",
   "metadata": {
    "papermill": {
     "duration": null,
     "end_time": null,
     "exception": null,
     "start_time": null,
     "status": "pending"
    },
    "tags": []
   },
   "outputs": [],
   "source": []
  },
  {
   "cell_type": "code",
   "execution_count": null,
   "id": "01f30223",
   "metadata": {
    "papermill": {
     "duration": null,
     "end_time": null,
     "exception": null,
     "start_time": null,
     "status": "pending"
    },
    "tags": []
   },
   "outputs": [],
   "source": []
  },
  {
   "cell_type": "code",
   "execution_count": null,
   "id": "55eebf37",
   "metadata": {
    "papermill": {
     "duration": null,
     "end_time": null,
     "exception": null,
     "start_time": null,
     "status": "pending"
    },
    "tags": []
   },
   "outputs": [],
   "source": []
  }
 ],
 "metadata": {
  "kaggle": {
   "accelerator": "none",
   "dataSources": [],
   "dockerImageVersionId": 30786,
   "isGpuEnabled": false,
   "isInternetEnabled": true,
   "language": "python",
   "sourceType": "notebook"
  },
  "kernelspec": {
   "display_name": "Python 3",
   "language": "python",
   "name": "python3"
  },
  "language_info": {
   "codemirror_mode": {
    "name": "ipython",
    "version": 3
   },
   "file_extension": ".py",
   "mimetype": "text/x-python",
   "name": "python",
   "nbconvert_exporter": "python",
   "pygments_lexer": "ipython3",
   "version": "3.10.14"
  },
  "papermill": {
   "default_parameters": {},
   "duration": 105.199213,
   "end_time": "2024-11-27T20:14:10.764786",
   "environment_variables": {},
   "exception": true,
   "input_path": "__notebook__.ipynb",
   "output_path": "__notebook__.ipynb",
   "parameters": {},
   "start_time": "2024-11-27T20:12:25.565573",
   "version": "2.6.0"
  }
 },
 "nbformat": 4,
 "nbformat_minor": 5
}
