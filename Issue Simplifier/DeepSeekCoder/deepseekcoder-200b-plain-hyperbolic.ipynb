{
 "cells": [
  {
   "cell_type": "code",
   "execution_count": 1,
   "id": "b04552f1",
   "metadata": {
    "_cell_guid": "b1076dfc-b9ad-4769-8c92-a6c4dae69d19",
    "_uuid": "8f2839f25d086af736a60e9eeb907d3b93b6e0e5",
    "execution": {
     "iopub.execute_input": "2024-11-27T18:15:32.779042Z",
     "iopub.status.busy": "2024-11-27T18:15:32.778653Z",
     "iopub.status.idle": "2024-11-27T18:15:32.784209Z",
     "shell.execute_reply": "2024-11-27T18:15:32.783183Z"
    },
    "papermill": {
     "duration": 0.014128,
     "end_time": "2024-11-27T18:15:32.786239",
     "exception": false,
     "start_time": "2024-11-27T18:15:32.772111",
     "status": "completed"
    },
    "tags": []
   },
   "outputs": [],
   "source": [
    "# # This Python 3 environment comes with many helpful analytics libraries installed\n",
    "# # It is defined by the kaggle/python Docker image: https://github.com/kaggle/docker-python\n",
    "# # For example, here's several helpful packages to load\n",
    "\n",
    "# import numpy as np # linear algebra\n",
    "# import pandas as pd # data processing, CSV file I/O (e.g. pd.read_csv)\n",
    "\n",
    "# # Input data files are available in the read-only \"../input/\" directory\n",
    "# # For example, running this (by clicking run or pressing Shift+Enter) will list all files under the input directory\n",
    "\n",
    "# import os\n",
    "# for dirname, _, filenames in os.walk('/kaggle/input'):\n",
    "#     for filename in filenames:\n",
    "#         print(os.path.join(dirname, filename))\n",
    "\n",
    "# # You can write up to 20GB to the current directory (/kaggle/working/) that gets preserved as output when you create a version using \"Save & Run All\" \n",
    "# # You can also write temporary files to /kaggle/temp/, but they won't be saved outside of the current session"
   ]
  },
  {
   "cell_type": "code",
   "execution_count": 2,
   "id": "7e2cd4a7",
   "metadata": {
    "execution": {
     "iopub.execute_input": "2024-11-27T18:15:32.796902Z",
     "iopub.status.busy": "2024-11-27T18:15:32.796231Z",
     "iopub.status.idle": "2024-11-27T18:15:32.873080Z",
     "shell.execute_reply": "2024-11-27T18:15:32.872267Z"
    },
    "papermill": {
     "duration": 0.084448,
     "end_time": "2024-11-27T18:15:32.875446",
     "exception": false,
     "start_time": "2024-11-27T18:15:32.790998",
     "status": "completed"
    },
    "tags": []
   },
   "outputs": [],
   "source": [
    "import base64\n",
    "import requests\n",
    "from io import BytesIO\n",
    "from PIL import Image\n"
   ]
  },
  {
   "cell_type": "code",
   "execution_count": 3,
   "id": "12c8754f",
   "metadata": {
    "execution": {
     "iopub.execute_input": "2024-11-27T18:15:32.885861Z",
     "iopub.status.busy": "2024-11-27T18:15:32.885467Z",
     "iopub.status.idle": "2024-11-27T18:15:33.154746Z",
     "shell.execute_reply": "2024-11-27T18:15:33.153947Z"
    },
    "papermill": {
     "duration": 0.277204,
     "end_time": "2024-11-27T18:15:33.157138",
     "exception": false,
     "start_time": "2024-11-27T18:15:32.879934",
     "status": "completed"
    },
    "tags": []
   },
   "outputs": [],
   "source": [
    "from kaggle_secrets import UserSecretsClient\n",
    "user_secrets = UserSecretsClient()\n",
    "secret_value_0 = user_secrets.get_secret(\"hyperbolic\")\n"
   ]
  },
  {
   "cell_type": "code",
   "execution_count": 4,
   "id": "3a8c094d",
   "metadata": {
    "execution": {
     "iopub.execute_input": "2024-11-27T18:15:33.167455Z",
     "iopub.status.busy": "2024-11-27T18:15:33.167087Z",
     "iopub.status.idle": "2024-11-27T18:15:33.174554Z",
     "shell.execute_reply": "2024-11-27T18:15:33.173500Z"
    },
    "papermill": {
     "duration": 0.015084,
     "end_time": "2024-11-27T18:15:33.176678",
     "exception": false,
     "start_time": "2024-11-27T18:15:33.161594",
     "status": "completed"
    },
    "tags": []
   },
   "outputs": [],
   "source": [
    "# from huggingface_hub import InferenceClient\n",
    "# client = InferenceClient(api_key=HF_TOKEN)\n",
    "\n",
    "def qwen_reply(temperature=0.5,max_tokens=1024, top_p=0.7, message=None):\n",
    "    # print(message)\n",
    "    if(message is None):\n",
    "        return \"No input received\"\n",
    "        \n",
    "    secret_value_0 = user_secrets.get_secret(\"hyperbolic\")\n",
    "    api = \"https://api.hyperbolic.xyz/v1/chat/completions\"\n",
    "    api_key = secret_value_0\n",
    "    \n",
    "    headers = {\n",
    "        \"Content-Type\": \"application/json\",\n",
    "        \"Authorization\": f\"Bearer {api_key}\",\n",
    "    }\n",
    "    \n",
    "    \n",
    "    payload = {\n",
    "    \"messages\": [\n",
    "        {\n",
    "            \"role\": \"system\",\n",
    "            \"content\": \"You are an expert logician\"\n",
    "        },\n",
    "        {\n",
    "            \"role\": \"user\",\n",
    "            \"content\": \"Simplify the given Passage.\"+message+\"SIMPLIFY THE ABOVE PASSAGE\"\n",
    "        }\n",
    "    ],\n",
    "            \"model\": \"deepseek-ai/DeepSeek-V2.5\",\n",
    "        \"max_tokens\": max_tokens,\n",
    "        \"temperature\": temperature,\n",
    "        \"top_p\": top_p,\n",
    "    }\n",
    "    \n",
    "    response = requests.post(api, headers=headers, json=payload)\n",
    "    # print(response.json())\n",
    "    return response.json()['choices'][0]['message']['content']\n"
   ]
  },
  {
   "cell_type": "code",
   "execution_count": 5,
   "id": "e68da9da",
   "metadata": {
    "execution": {
     "iopub.execute_input": "2024-11-27T18:15:33.187335Z",
     "iopub.status.busy": "2024-11-27T18:15:33.186602Z",
     "iopub.status.idle": "2024-11-27T18:15:33.190980Z",
     "shell.execute_reply": "2024-11-27T18:15:33.190017Z"
    },
    "papermill": {
     "duration": 0.011756,
     "end_time": "2024-11-27T18:15:33.192874",
     "exception": false,
     "start_time": "2024-11-27T18:15:33.181118",
     "status": "completed"
    },
    "tags": []
   },
   "outputs": [],
   "source": [
    "# response.json()['choices'][0]['message']['content']"
   ]
  },
  {
   "cell_type": "code",
   "execution_count": 6,
   "id": "c9aaf26f",
   "metadata": {
    "execution": {
     "iopub.execute_input": "2024-11-27T18:15:33.204043Z",
     "iopub.status.busy": "2024-11-27T18:15:33.203566Z",
     "iopub.status.idle": "2024-11-27T18:15:33.211523Z",
     "shell.execute_reply": "2024-11-27T18:15:33.210503Z"
    },
    "papermill": {
     "duration": 0.016343,
     "end_time": "2024-11-27T18:15:33.213555",
     "exception": false,
     "start_time": "2024-11-27T18:15:33.197212",
     "status": "completed"
    },
    "tags": []
   },
   "outputs": [],
   "source": [
    "L = [\n",
    "    \"\"\"What happened?\n",
    "Calling itertools.count(sys.maxsize) aborts with the following message:\n",
    "\n",
    "python -c \"from sys import maxsize; from itertools import count; count(maxsize)\"\n",
    "python: ./Modules/itertoolsmodule.c:3325: itertools_count_impl: Assertion `(cnt != PY_SSIZE_T_MAX && long_cnt == NULL && fast_mode) || (cnt == PY_SSIZE_T_MAX && long_cnt != NULL && !fast_mode)' failed.\n",
    "Aborted (core dumped)\n",
    "Found using fusil by @vstinner.\n",
    "\n",
    "CPython versions tested on:\n",
    "CPython main branch\n",
    "\n",
    "Operating systems tested on:\n",
    "Linux, Windows\n",
    "\n",
    "Output from running 'python -VV' on the command line:\n",
    "Python 3.14.0a1+ (heads/main:4ea214ea982, Nov 6 2024, 00:52:15) [MSC v.1941 64 bit (AMD64)]\n",
    "\n",
    "\"\"\",\n",
    "\"\"\"\n",
    "What happened?\n",
    "Calling bytes_object.__buffer__(large_negative_number) in a debug build aborts with this message:\n",
    "\n",
    ">>> b\"\".__buffer__(-2**31 - 1)\n",
    "python: Objects/typeobject.c:9321: wrap_buffer: Assertion `_Py_STATIC_CAST(Py_ssize_t, _Py_STATIC_CAST(int, (flags))) == (flags)' failed.\n",
    "Aborted\n",
    "Found using fusil by @vstinner.\n",
    "\n",
    "CPython versions tested on:\n",
    "CPython main branch\n",
    "\n",
    "Operating systems tested on:\n",
    "Linux, Windows\n",
    "\n",
    "Output from running 'python -VV' on the command line:\n",
    "Python 3.14.0a1+ (heads/main:4ea214ea982, Nov 6 2024, 00:52:15) [MSC v.1941 64 bit (AMD64)]\n",
    "\n",
    "\"\"\",\n",
    "    \"\"\"\n",
    "    Incorrect and misleading translation of the module fnmatch description, in the first phrase:\n",
    "\n",
    "EN: https://docs.python.org/3.13/library/fnmatch.html\n",
    "\n",
    "This module provides support for Unix shell-style wildcards, which are _not_ the same as regular expressions\n",
    "\n",
    "UK: https://docs.python.org/uk/3/library/fnmatch.html\n",
    "\n",
    "Цей модуль підтримує символи підстановки у стилі оболонки Unix, які _не_ відрізняються від регулярних виразів\n",
    "\n",
    "In this translation, the bold phrase in Ukrainian (UK) version means which _are the same_ as regular expressions. It is quite an opposite to the intended meaning!\n",
    "\n",
    "Correct translation of which are _not_ the same as is\n",
    "\n",
    "either: які _не_ відповідають регулярним виразам;\n",
    "or: які _не_ те саме, що регулярні вирази;\n",
    "or: які _відрізняються_ від регулярних виразів.\n",
    "\n",
    "    \"\"\",\n",
    "\n",
    "    \"\"\"\n",
    "    Bug description:\n",
    "from datetime import datetime\n",
    "time_with_warning = datetime.utcnow()\n",
    "time_with_error = datetime.now(datetime.UTC)\n",
    "time_is_correct = datetime.now(timezone.utc)\n",
    "When using datetime.datetime.utcnow(), Python raises a DeprecationWarning. The warning suggests using datetime.datetime.now(datetime.UTC) to create a timezone-aware UTC datetime object. However, this suggestion is incorrect because datetime.UTC does not exist in Python's datetime module. The correct approach should be datetime.datetime.now(timezone.utc).\n",
    "    \"\"\",\n",
    "    \"\"\"\n",
    "    Bug description:\n",
    "I'm using the zipfile module to create a ZIP file with thousands of members. Each file is created by creating a corresponding zipfile.Path object first and then calling .open() on it.\n",
    "\n",
    "The implementation of open() contains a check whether the file already exists when opening a file in read mode:\n",
    "\n",
    "if not self.exists() and zip_mode == 'r':\n",
    "    raise FileNotFoundError(self)\n",
    "However, self.exists() is called even in write mode, because it is the and operator's first argument.\n",
    "The call to self.exists() is quite slow however, because this requires the ZIP file's .namelist() to be computed, which in turn requires to compute all the implied directories. After all, this is the reason why the FastLookup optimization exists for ZIP files in read mode.\n",
    "\n",
    "I found this issue after profiling my application and was surprised that more than half of its execution time was spent in computing implied ZIP directories.\n",
    "\n",
    "I would propose to swap the and arguments so the check looks like this:\n",
    "\n",
    "if zip_mode == \"r\" and not self.exists():\n",
    "    raise FileNotFoundError(self)\n",
    "This will cause the self.exists() check to only be run in read mode, where the check is fast because of FastLookup anyway.\n",
    "\n",
    "I'm happy to provide a pull request with this change.\n",
    "\n",
    "CPython versions tested on:\n",
    "3.11, 3.12\n",
    "\n",
    "Operating systems tested on:\n",
    "Linux, macOS\n",
    "\n",
    "\n",
    "    \"\"\"\n",
    "]"
   ]
  },
  {
   "cell_type": "code",
   "execution_count": 7,
   "id": "a2581d8b",
   "metadata": {
    "execution": {
     "iopub.execute_input": "2024-11-27T18:15:33.223941Z",
     "iopub.status.busy": "2024-11-27T18:15:33.223221Z",
     "iopub.status.idle": "2024-11-27T18:15:43.622324Z",
     "shell.execute_reply": "2024-11-27T18:15:43.621483Z"
    },
    "papermill": {
     "duration": 10.406822,
     "end_time": "2024-11-27T18:15:43.624817",
     "exception": false,
     "start_time": "2024-11-27T18:15:33.217995",
     "status": "completed"
    },
    "tags": []
   },
   "outputs": [],
   "source": [
    "res0 = qwen_reply(message=L[0])\n"
   ]
  },
  {
   "cell_type": "code",
   "execution_count": 8,
   "id": "9232b2a8",
   "metadata": {
    "execution": {
     "iopub.execute_input": "2024-11-27T18:15:43.634938Z",
     "iopub.status.busy": "2024-11-27T18:15:43.634578Z",
     "iopub.status.idle": "2024-11-27T18:15:43.640139Z",
     "shell.execute_reply": "2024-11-27T18:15:43.639032Z"
    },
    "papermill": {
     "duration": 0.013056,
     "end_time": "2024-11-27T18:15:43.642412",
     "exception": false,
     "start_time": "2024-11-27T18:15:43.629356",
     "status": "completed"
    },
    "tags": []
   },
   "outputs": [
    {
     "name": "stdout",
     "output_type": "stream",
     "text": [
      "Calling `itertools.count(sys.maxsize)` causes Python to abort with an assertion error. This issue was found using `fusil` by @vstinner.\n",
      "\n",
      "Tested on:\n",
      "- CPython main branch\n",
      "- Operating systems: Linux, Windows\n",
      "- Python version: 3.14.0a1+ (Nov 6, 2024)\n"
     ]
    }
   ],
   "source": [
    "for i in res0.split('\\n'):\n",
    "    print(i)"
   ]
  },
  {
   "cell_type": "code",
   "execution_count": 9,
   "id": "7f1e79c2",
   "metadata": {
    "execution": {
     "iopub.execute_input": "2024-11-27T18:15:43.652953Z",
     "iopub.status.busy": "2024-11-27T18:15:43.652382Z",
     "iopub.status.idle": "2024-11-27T18:16:05.782449Z",
     "shell.execute_reply": "2024-11-27T18:16:05.781651Z"
    },
    "papermill": {
     "duration": 22.13762,
     "end_time": "2024-11-27T18:16:05.784715",
     "exception": false,
     "start_time": "2024-11-27T18:15:43.647095",
     "status": "completed"
    },
    "tags": []
   },
   "outputs": [],
   "source": [
    "res1 = qwen_reply(message=L[1])\n"
   ]
  },
  {
   "cell_type": "code",
   "execution_count": 10,
   "id": "e892c52a",
   "metadata": {
    "execution": {
     "iopub.execute_input": "2024-11-27T18:16:05.795260Z",
     "iopub.status.busy": "2024-11-27T18:16:05.794934Z",
     "iopub.status.idle": "2024-11-27T18:16:05.800439Z",
     "shell.execute_reply": "2024-11-27T18:16:05.799347Z"
    },
    "papermill": {
     "duration": 0.012994,
     "end_time": "2024-11-27T18:16:05.802503",
     "exception": false,
     "start_time": "2024-11-27T18:16:05.789509",
     "status": "completed"
    },
    "tags": []
   },
   "outputs": [
    {
     "name": "stdout",
     "output_type": "stream",
     "text": [
      "Calling `bytes_object.__buffer__(-2**31 - 1)` in a debug build causes Python to abort with an assertion error:\n",
      "\n",
      "```\n",
      "python: Objects/typeobject.c:9321: wrap_buffer: Assertion `_Py_STATIC_CAST(Py_ssize_t, _Py_STATIC_CAST(int, (flags))) == (flags)' failed.\n",
      "Aborted\n",
      "```\n",
      "\n",
      "This was found using fusil by @vstinner.\n",
      "\n",
      "Tested on:\n",
      "- CPython main branch\n",
      "- Operating systems: Linux, Windows\n",
      "- Python version: 3.14.0a1+ (heads/main:4ea214ea982, Nov 6 2024, 00:52:15) [MSC v.1941 64 bit (AMD64)]\n"
     ]
    }
   ],
   "source": [
    "for i in res1.split('\\n'):\n",
    "    print(i)"
   ]
  },
  {
   "cell_type": "code",
   "execution_count": 11,
   "id": "8c801fd9",
   "metadata": {
    "execution": {
     "iopub.execute_input": "2024-11-27T18:16:05.812859Z",
     "iopub.status.busy": "2024-11-27T18:16:05.812517Z",
     "iopub.status.idle": "2024-11-27T18:16:21.484772Z",
     "shell.execute_reply": "2024-11-27T18:16:21.483785Z"
    },
    "papermill": {
     "duration": 15.680012,
     "end_time": "2024-11-27T18:16:21.487138",
     "exception": false,
     "start_time": "2024-11-27T18:16:05.807126",
     "status": "completed"
    },
    "tags": []
   },
   "outputs": [],
   "source": [
    "res2 = qwen_reply(message=L[2])"
   ]
  },
  {
   "cell_type": "code",
   "execution_count": 12,
   "id": "2b9e216a",
   "metadata": {
    "execution": {
     "iopub.execute_input": "2024-11-27T18:16:21.497924Z",
     "iopub.status.busy": "2024-11-27T18:16:21.497531Z",
     "iopub.status.idle": "2024-11-27T18:16:21.502558Z",
     "shell.execute_reply": "2024-11-27T18:16:21.501527Z"
    },
    "papermill": {
     "duration": 0.01307,
     "end_time": "2024-11-27T18:16:21.504994",
     "exception": false,
     "start_time": "2024-11-27T18:16:21.491924",
     "status": "completed"
    },
    "tags": []
   },
   "outputs": [
    {
     "name": "stdout",
     "output_type": "stream",
     "text": [
      "The Ukrainian translation of the Python `fnmatch` module description incorrectly states that Unix shell-style wildcards are the same as regular expressions, which is the opposite of the original English meaning. The correct translations should indicate that they are not the same, such as:\n",
      "\n",
      "- які _не_ відповідають регулярним виразам;\n",
      "- які _не_ те саме, що регулярні вирази;\n",
      "- які _відрізняються_ від регулярних виразів.\n"
     ]
    }
   ],
   "source": [
    "for i in res2.split('\\n'):\n",
    "    print(i)"
   ]
  },
  {
   "cell_type": "code",
   "execution_count": 13,
   "id": "b3ca65ce",
   "metadata": {
    "execution": {
     "iopub.execute_input": "2024-11-27T18:16:21.515750Z",
     "iopub.status.busy": "2024-11-27T18:16:21.515400Z",
     "iopub.status.idle": "2024-11-27T18:16:29.513435Z",
     "shell.execute_reply": "2024-11-27T18:16:29.512224Z"
    },
    "papermill": {
     "duration": 8.00696,
     "end_time": "2024-11-27T18:16:29.516674",
     "exception": false,
     "start_time": "2024-11-27T18:16:21.509714",
     "status": "completed"
    },
    "tags": []
   },
   "outputs": [],
   "source": [
    "res3 = qwen_reply(message=L[3])\n"
   ]
  },
  {
   "cell_type": "code",
   "execution_count": 14,
   "id": "a4e5cf9d",
   "metadata": {
    "execution": {
     "iopub.execute_input": "2024-11-27T18:16:29.528611Z",
     "iopub.status.busy": "2024-11-27T18:16:29.528283Z",
     "iopub.status.idle": "2024-11-27T18:16:29.533501Z",
     "shell.execute_reply": "2024-11-27T18:16:29.532290Z"
    },
    "papermill": {
     "duration": 0.013492,
     "end_time": "2024-11-27T18:16:29.535683",
     "exception": false,
     "start_time": "2024-11-27T18:16:29.522191",
     "status": "completed"
    },
    "tags": []
   },
   "outputs": [
    {
     "name": "stdout",
     "output_type": "stream",
     "text": [
      "Bug description:\n",
      "Using `datetime.utcnow()` raises a DeprecationWarning, suggesting to replace it with `datetime.now(datetime.UTC)`. However, `datetime.UTC` does not exist. The correct method is `datetime.now(timezone.utc)`.\n"
     ]
    }
   ],
   "source": [
    "for i in res3.split('\\n'):\n",
    "    print(i)"
   ]
  },
  {
   "cell_type": "code",
   "execution_count": 15,
   "id": "03eb1ea9",
   "metadata": {
    "execution": {
     "iopub.execute_input": "2024-11-27T18:16:29.547851Z",
     "iopub.status.busy": "2024-11-27T18:16:29.547472Z",
     "iopub.status.idle": "2024-11-27T18:16:58.164309Z",
     "shell.execute_reply": "2024-11-27T18:16:58.163508Z"
    },
    "papermill": {
     "duration": 28.625357,
     "end_time": "2024-11-27T18:16:58.166558",
     "exception": false,
     "start_time": "2024-11-27T18:16:29.541201",
     "status": "completed"
    },
    "tags": []
   },
   "outputs": [],
   "source": [
    "res4 = qwen_reply(message=L[4])"
   ]
  },
  {
   "cell_type": "code",
   "execution_count": 16,
   "id": "83089058",
   "metadata": {
    "execution": {
     "iopub.execute_input": "2024-11-27T18:16:58.177712Z",
     "iopub.status.busy": "2024-11-27T18:16:58.177377Z",
     "iopub.status.idle": "2024-11-27T18:16:58.182103Z",
     "shell.execute_reply": "2024-11-27T18:16:58.181225Z"
    },
    "papermill": {
     "duration": 0.013005,
     "end_time": "2024-11-27T18:16:58.184547",
     "exception": false,
     "start_time": "2024-11-27T18:16:58.171542",
     "status": "completed"
    },
    "tags": []
   },
   "outputs": [
    {
     "name": "stdout",
     "output_type": "stream",
     "text": [
      "Bug description:\n",
      "Using `datetime.utcnow()` raises a DeprecationWarning, suggesting to replace it with `datetime.now(datetime.UTC)`. However, `datetime.UTC` does not exist. The correct method is `datetime.now(timezone.utc)`.\n"
     ]
    }
   ],
   "source": [
    "for i in res3.split('\\n'):\n",
    "    print(i)"
   ]
  },
  {
   "cell_type": "code",
   "execution_count": null,
   "id": "7be2f4e3",
   "metadata": {
    "papermill": {
     "duration": 0.004584,
     "end_time": "2024-11-27T18:16:58.193934",
     "exception": false,
     "start_time": "2024-11-27T18:16:58.189350",
     "status": "completed"
    },
    "tags": []
   },
   "outputs": [],
   "source": []
  },
  {
   "cell_type": "code",
   "execution_count": null,
   "id": "20ff24aa",
   "metadata": {
    "papermill": {
     "duration": 0.004541,
     "end_time": "2024-11-27T18:16:58.203508",
     "exception": false,
     "start_time": "2024-11-27T18:16:58.198967",
     "status": "completed"
    },
    "tags": []
   },
   "outputs": [],
   "source": []
  },
  {
   "cell_type": "code",
   "execution_count": null,
   "id": "804a2655",
   "metadata": {
    "papermill": {
     "duration": 0.00464,
     "end_time": "2024-11-27T18:16:58.212942",
     "exception": false,
     "start_time": "2024-11-27T18:16:58.208302",
     "status": "completed"
    },
    "tags": []
   },
   "outputs": [],
   "source": []
  },
  {
   "cell_type": "code",
   "execution_count": null,
   "id": "6b0bdd8c",
   "metadata": {
    "papermill": {
     "duration": 0.00469,
     "end_time": "2024-11-27T18:16:58.222494",
     "exception": false,
     "start_time": "2024-11-27T18:16:58.217804",
     "status": "completed"
    },
    "tags": []
   },
   "outputs": [],
   "source": []
  },
  {
   "cell_type": "code",
   "execution_count": null,
   "id": "7f3868bc",
   "metadata": {
    "papermill": {
     "duration": 0.004572,
     "end_time": "2024-11-27T18:16:58.231867",
     "exception": false,
     "start_time": "2024-11-27T18:16:58.227295",
     "status": "completed"
    },
    "tags": []
   },
   "outputs": [],
   "source": []
  },
  {
   "cell_type": "code",
   "execution_count": null,
   "id": "15f3ed7e",
   "metadata": {
    "papermill": {
     "duration": 0.004577,
     "end_time": "2024-11-27T18:16:58.241204",
     "exception": false,
     "start_time": "2024-11-27T18:16:58.236627",
     "status": "completed"
    },
    "tags": []
   },
   "outputs": [],
   "source": []
  },
  {
   "cell_type": "code",
   "execution_count": null,
   "id": "010baf2a",
   "metadata": {
    "papermill": {
     "duration": 0.004557,
     "end_time": "2024-11-27T18:16:58.250646",
     "exception": false,
     "start_time": "2024-11-27T18:16:58.246089",
     "status": "completed"
    },
    "tags": []
   },
   "outputs": [],
   "source": []
  },
  {
   "cell_type": "code",
   "execution_count": null,
   "id": "390a8a14",
   "metadata": {
    "papermill": {
     "duration": 0.004528,
     "end_time": "2024-11-27T18:16:58.259800",
     "exception": false,
     "start_time": "2024-11-27T18:16:58.255272",
     "status": "completed"
    },
    "tags": []
   },
   "outputs": [],
   "source": []
  }
 ],
 "metadata": {
  "kaggle": {
   "accelerator": "none",
   "dataSources": [],
   "dockerImageVersionId": 30786,
   "isGpuEnabled": false,
   "isInternetEnabled": true,
   "language": "python",
   "sourceType": "notebook"
  },
  "kernelspec": {
   "display_name": "Python 3",
   "language": "python",
   "name": "python3"
  },
  "language_info": {
   "codemirror_mode": {
    "name": "ipython",
    "version": 3
   },
   "file_extension": ".py",
   "mimetype": "text/x-python",
   "name": "python",
   "nbconvert_exporter": "python",
   "pygments_lexer": "ipython3",
   "version": "3.10.14"
  },
  "papermill": {
   "default_parameters": {},
   "duration": 88.613233,
   "end_time": "2024-11-27T18:16:58.584255",
   "environment_variables": {},
   "exception": null,
   "input_path": "__notebook__.ipynb",
   "output_path": "__notebook__.ipynb",
   "parameters": {},
   "start_time": "2024-11-27T18:15:29.971022",
   "version": "2.6.0"
  }
 },
 "nbformat": 4,
 "nbformat_minor": 5
}
