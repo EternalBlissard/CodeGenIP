{
 "cells": [
  {
   "cell_type": "code",
   "execution_count": 1,
   "id": "9f44f488",
   "metadata": {
    "_cell_guid": "b1076dfc-b9ad-4769-8c92-a6c4dae69d19",
    "_uuid": "8f2839f25d086af736a60e9eeb907d3b93b6e0e5",
    "execution": {
     "iopub.execute_input": "2024-11-26T14:24:57.104190Z",
     "iopub.status.busy": "2024-11-26T14:24:57.103310Z",
     "iopub.status.idle": "2024-11-26T14:24:57.108900Z",
     "shell.execute_reply": "2024-11-26T14:24:57.107980Z"
    },
    "papermill": {
     "duration": 0.014219,
     "end_time": "2024-11-26T14:24:57.110915",
     "exception": false,
     "start_time": "2024-11-26T14:24:57.096696",
     "status": "completed"
    },
    "tags": []
   },
   "outputs": [],
   "source": [
    "# # This Python 3 environment comes with many helpful analytics libraries installed\n",
    "# # It is defined by the kaggle/python Docker image: https://github.com/kaggle/docker-python\n",
    "# # For example, here's several helpful packages to load\n",
    "\n",
    "# import numpy as np # linear algebra\n",
    "# import pandas as pd # data processing, CSV file I/O (e.g. pd.read_csv)\n",
    "\n",
    "# # Input data files are available in the read-only \"../input/\" directory\n",
    "# # For example, running this (by clicking run or pressing Shift+Enter) will list all files under the input directory\n",
    "\n",
    "# import os\n",
    "# for dirname, _, filenames in os.walk('/kaggle/input'):\n",
    "#     for filename in filenames:\n",
    "#         print(os.path.join(dirname, filename))\n",
    "\n",
    "# # You can write up to 20GB to the current directory (/kaggle/working/) that gets preserved as output when you create a version using \"Save & Run All\" \n",
    "# # You can also write temporary files to /kaggle/temp/, but they won't be saved outside of the current session"
   ]
  },
  {
   "cell_type": "code",
   "execution_count": 2,
   "id": "536a729e",
   "metadata": {
    "execution": {
     "iopub.execute_input": "2024-11-26T14:24:57.120891Z",
     "iopub.status.busy": "2024-11-26T14:24:57.120564Z",
     "iopub.status.idle": "2024-11-26T14:24:57.191882Z",
     "shell.execute_reply": "2024-11-26T14:24:57.190894Z"
    },
    "papermill": {
     "duration": 0.078803,
     "end_time": "2024-11-26T14:24:57.194220",
     "exception": false,
     "start_time": "2024-11-26T14:24:57.115417",
     "status": "completed"
    },
    "tags": []
   },
   "outputs": [],
   "source": [
    "import base64\n",
    "import requests\n",
    "from io import BytesIO\n",
    "from PIL import Image\n"
   ]
  },
  {
   "cell_type": "code",
   "execution_count": 3,
   "id": "b43a9eaa",
   "metadata": {
    "execution": {
     "iopub.execute_input": "2024-11-26T14:24:57.204642Z",
     "iopub.status.busy": "2024-11-26T14:24:57.204332Z",
     "iopub.status.idle": "2024-11-26T14:24:57.508488Z",
     "shell.execute_reply": "2024-11-26T14:24:57.507545Z"
    },
    "papermill": {
     "duration": 0.311925,
     "end_time": "2024-11-26T14:24:57.510731",
     "exception": false,
     "start_time": "2024-11-26T14:24:57.198806",
     "status": "completed"
    },
    "tags": []
   },
   "outputs": [],
   "source": [
    "from kaggle_secrets import UserSecretsClient\n",
    "user_secrets = UserSecretsClient()\n",
    "secret_value_0 = user_secrets.get_secret(\"hyperbolic\")\n"
   ]
  },
  {
   "cell_type": "code",
   "execution_count": 4,
   "id": "41a94908",
   "metadata": {
    "execution": {
     "iopub.execute_input": "2024-11-26T14:24:57.521196Z",
     "iopub.status.busy": "2024-11-26T14:24:57.520371Z",
     "iopub.status.idle": "2024-11-26T14:24:57.527523Z",
     "shell.execute_reply": "2024-11-26T14:24:57.526469Z"
    },
    "papermill": {
     "duration": 0.014265,
     "end_time": "2024-11-26T14:24:57.529446",
     "exception": false,
     "start_time": "2024-11-26T14:24:57.515181",
     "status": "completed"
    },
    "tags": []
   },
   "outputs": [],
   "source": [
    "# from huggingface_hub import InferenceClient\n",
    "# client = InferenceClient(api_key=HF_TOKEN)\n",
    "\n",
    "def qwen_reply(temperature=0.5,max_tokens=1024, top_p=0.7, message=None):\n",
    "    # print(message)\n",
    "    if(message is None):\n",
    "        return \"No input received\"\n",
    "        \n",
    "    secret_value_0 = user_secrets.get_secret(\"hyperbolic\")\n",
    "    api = \"https://api.hyperbolic.xyz/v1/chat/completions\"\n",
    "    api_key = secret_value_0\n",
    "    \n",
    "    headers = {\n",
    "        \"Content-Type\": \"application/json\",\n",
    "        \"Authorization\": f\"Bearer {api_key}\",\n",
    "    }\n",
    "    \n",
    "    \n",
    "    payload = {\n",
    "    \"messages\": [\n",
    "        {\n",
    "            \"role\": \"system\",\n",
    "            \"content\": \"You are an expert logician\"\n",
    "        },\n",
    "        {\n",
    "            \"role\": \"user\",\n",
    "            \"content\": \"Simplify the given Passage.\"+message+\"SIMPLIFY THE ABOVE PASSAGE\"\n",
    "        }\n",
    "    ],\n",
    "            \"model\": \"meta-llama/Meta-Llama-3.1-70B-Instruct\",\n",
    "        \"max_tokens\": max_tokens,\n",
    "        \"temperature\": temperature,\n",
    "        \"top_p\": top_p,\n",
    "    }\n",
    "    \n",
    "    response = requests.post(api, headers=headers, json=payload)\n",
    "    # print(response.json())\n",
    "    return response.json()['choices'][0]['message']['content']\n"
   ]
  },
  {
   "cell_type": "code",
   "execution_count": 5,
   "id": "212ab9a5",
   "metadata": {
    "execution": {
     "iopub.execute_input": "2024-11-26T14:24:57.539731Z",
     "iopub.status.busy": "2024-11-26T14:24:57.539413Z",
     "iopub.status.idle": "2024-11-26T14:24:57.543834Z",
     "shell.execute_reply": "2024-11-26T14:24:57.542570Z"
    },
    "papermill": {
     "duration": 0.011981,
     "end_time": "2024-11-26T14:24:57.546188",
     "exception": false,
     "start_time": "2024-11-26T14:24:57.534207",
     "status": "completed"
    },
    "tags": []
   },
   "outputs": [],
   "source": [
    "# response.json()['choices'][0]['message']['content']"
   ]
  },
  {
   "cell_type": "code",
   "execution_count": 6,
   "id": "741f91b8",
   "metadata": {
    "execution": {
     "iopub.execute_input": "2024-11-26T14:24:57.557534Z",
     "iopub.status.busy": "2024-11-26T14:24:57.557190Z",
     "iopub.status.idle": "2024-11-26T14:24:57.564030Z",
     "shell.execute_reply": "2024-11-26T14:24:57.562967Z"
    },
    "papermill": {
     "duration": 0.015534,
     "end_time": "2024-11-26T14:24:57.566063",
     "exception": false,
     "start_time": "2024-11-26T14:24:57.550529",
     "status": "completed"
    },
    "tags": []
   },
   "outputs": [],
   "source": [
    "L = [\n",
    "    \"\"\"What happened?\n",
    "Calling itertools.count(sys.maxsize) aborts with the following message:\n",
    "\n",
    "python -c \"from sys import maxsize; from itertools import count; count(maxsize)\"\n",
    "python: ./Modules/itertoolsmodule.c:3325: itertools_count_impl: Assertion `(cnt != PY_SSIZE_T_MAX && long_cnt == NULL && fast_mode) || (cnt == PY_SSIZE_T_MAX && long_cnt != NULL && !fast_mode)' failed.\n",
    "Aborted (core dumped)\n",
    "Found using fusil by @vstinner.\n",
    "\n",
    "CPython versions tested on:\n",
    "CPython main branch\n",
    "\n",
    "Operating systems tested on:\n",
    "Linux, Windows\n",
    "\n",
    "Output from running 'python -VV' on the command line:\n",
    "Python 3.14.0a1+ (heads/main:4ea214ea982, Nov 6 2024, 00:52:15) [MSC v.1941 64 bit (AMD64)]\n",
    "\n",
    "\"\"\",\n",
    "\"\"\"\n",
    "What happened?\n",
    "Calling bytes_object.__buffer__(large_negative_number) in a debug build aborts with this message:\n",
    "\n",
    ">>> b\"\".__buffer__(-2**31 - 1)\n",
    "python: Objects/typeobject.c:9321: wrap_buffer: Assertion `_Py_STATIC_CAST(Py_ssize_t, _Py_STATIC_CAST(int, (flags))) == (flags)' failed.\n",
    "Aborted\n",
    "Found using fusil by @vstinner.\n",
    "\n",
    "CPython versions tested on:\n",
    "CPython main branch\n",
    "\n",
    "Operating systems tested on:\n",
    "Linux, Windows\n",
    "\n",
    "Output from running 'python -VV' on the command line:\n",
    "Python 3.14.0a1+ (heads/main:4ea214ea982, Nov 6 2024, 00:52:15) [MSC v.1941 64 bit (AMD64)]\n",
    "\n",
    "\"\"\",\n",
    "    \"\"\"\n",
    "    Incorrect and misleading translation of the module fnmatch description, in the first phrase:\n",
    "\n",
    "EN: https://docs.python.org/3.13/library/fnmatch.html\n",
    "\n",
    "This module provides support for Unix shell-style wildcards, which are _not_ the same as regular expressions\n",
    "\n",
    "UK: https://docs.python.org/uk/3/library/fnmatch.html\n",
    "\n",
    "Цей модуль підтримує символи підстановки у стилі оболонки Unix, які _не_ відрізняються від регулярних виразів\n",
    "\n",
    "In this translation, the bold phrase in Ukrainian (UK) version means which _are the same_ as regular expressions. It is quite an opposite to the intended meaning!\n",
    "\n",
    "Correct translation of which are _not_ the same as is\n",
    "\n",
    "either: які _не_ відповідають регулярним виразам;\n",
    "or: які _не_ те саме, що регулярні вирази;\n",
    "or: які _відрізняються_ від регулярних виразів.\n",
    "\n",
    "    \"\"\",\n",
    "\n",
    "    \"\"\"\n",
    "    Bug description:\n",
    "from datetime import datetime\n",
    "time_with_warning = datetime.utcnow()\n",
    "time_with_error = datetime.now(datetime.UTC)\n",
    "time_is_correct = datetime.now(timezone.utc)\n",
    "When using datetime.datetime.utcnow(), Python raises a DeprecationWarning. The warning suggests using datetime.datetime.now(datetime.UTC) to create a timezone-aware UTC datetime object. However, this suggestion is incorrect because datetime.UTC does not exist in Python's datetime module. The correct approach should be datetime.datetime.now(timezone.utc).\n",
    "    \"\"\",\n",
    "    \"\"\"\n",
    "    Bug description:\n",
    "I'm using the zipfile module to create a ZIP file with thousands of members. Each file is created by creating a corresponding zipfile.Path object first and then calling .open() on it.\n",
    "\n",
    "The implementation of open() contains a check whether the file already exists when opening a file in read mode:\n",
    "\n",
    "if not self.exists() and zip_mode == 'r':\n",
    "    raise FileNotFoundError(self)\n",
    "However, self.exists() is called even in write mode, because it is the and operator's first argument.\n",
    "The call to self.exists() is quite slow however, because this requires the ZIP file's .namelist() to be computed, which in turn requires to compute all the implied directories. After all, this is the reason why the FastLookup optimization exists for ZIP files in read mode.\n",
    "\n",
    "I found this issue after profiling my application and was surprised that more than half of its execution time was spent in computing implied ZIP directories.\n",
    "\n",
    "I would propose to swap the and arguments so the check looks like this:\n",
    "\n",
    "if zip_mode == \"r\" and not self.exists():\n",
    "    raise FileNotFoundError(self)\n",
    "This will cause the self.exists() check to only be run in read mode, where the check is fast because of FastLookup anyway.\n",
    "\n",
    "I'm happy to provide a pull request with this change.\n",
    "\n",
    "CPython versions tested on:\n",
    "3.11, 3.12\n",
    "\n",
    "Operating systems tested on:\n",
    "Linux, macOS\n",
    "\n",
    "\n",
    "    \"\"\"\n",
    "]"
   ]
  },
  {
   "cell_type": "code",
   "execution_count": 7,
   "id": "ad413ae6",
   "metadata": {
    "execution": {
     "iopub.execute_input": "2024-11-26T14:24:57.575669Z",
     "iopub.status.busy": "2024-11-26T14:24:57.575331Z",
     "iopub.status.idle": "2024-11-26T14:25:01.824374Z",
     "shell.execute_reply": "2024-11-26T14:25:01.823452Z"
    },
    "papermill": {
     "duration": 4.256525,
     "end_time": "2024-11-26T14:25:01.826746",
     "exception": false,
     "start_time": "2024-11-26T14:24:57.570221",
     "status": "completed"
    },
    "tags": []
   },
   "outputs": [],
   "source": [
    "res0 = qwen_reply(message=L[0])\n"
   ]
  },
  {
   "cell_type": "code",
   "execution_count": 8,
   "id": "60350cdc",
   "metadata": {
    "execution": {
     "iopub.execute_input": "2024-11-26T14:25:01.836682Z",
     "iopub.status.busy": "2024-11-26T14:25:01.836355Z",
     "iopub.status.idle": "2024-11-26T14:25:01.841814Z",
     "shell.execute_reply": "2024-11-26T14:25:01.840962Z"
    },
    "papermill": {
     "duration": 0.012686,
     "end_time": "2024-11-26T14:25:01.843852",
     "exception": false,
     "start_time": "2024-11-26T14:25:01.831166",
     "status": "completed"
    },
    "tags": []
   },
   "outputs": [
    {
     "name": "stdout",
     "output_type": "stream",
     "text": [
      "Here is a simplified version of the passage:\n",
      "\n",
      "**What happened?**\n",
      "\n",
      "Calling `itertools.count(sys.maxsize)` in Python causes the program to crash with an error message.\n",
      "\n",
      "**Details:**\n",
      "\n",
      "* This issue was found using a tool called \"fusil\" by a user named \"vstinner\".\n",
      "* The problem occurs on multiple operating systems (Linux and Windows) and Python versions (tested on CPython main branch).\n",
      "* The error message indicates an assertion failure in the `itertoolsmodule.c` file.\n"
     ]
    }
   ],
   "source": [
    "for i in res0.split('\\n'):\n",
    "    print(i)"
   ]
  },
  {
   "cell_type": "code",
   "execution_count": 9,
   "id": "4763a0f5",
   "metadata": {
    "execution": {
     "iopub.execute_input": "2024-11-26T14:25:01.854054Z",
     "iopub.status.busy": "2024-11-26T14:25:01.853732Z",
     "iopub.status.idle": "2024-11-26T14:25:05.803377Z",
     "shell.execute_reply": "2024-11-26T14:25:05.802393Z"
    },
    "papermill": {
     "duration": 3.957638,
     "end_time": "2024-11-26T14:25:05.806226",
     "exception": false,
     "start_time": "2024-11-26T14:25:01.848588",
     "status": "completed"
    },
    "tags": []
   },
   "outputs": [],
   "source": [
    "res1 = qwen_reply(message=L[1])\n"
   ]
  },
  {
   "cell_type": "code",
   "execution_count": 10,
   "id": "7ff43250",
   "metadata": {
    "execution": {
     "iopub.execute_input": "2024-11-26T14:25:05.822452Z",
     "iopub.status.busy": "2024-11-26T14:25:05.821590Z",
     "iopub.status.idle": "2024-11-26T14:25:05.827578Z",
     "shell.execute_reply": "2024-11-26T14:25:05.826524Z"
    },
    "papermill": {
     "duration": 0.016256,
     "end_time": "2024-11-26T14:25:05.830190",
     "exception": false,
     "start_time": "2024-11-26T14:25:05.813934",
     "status": "completed"
    },
    "tags": []
   },
   "outputs": [
    {
     "name": "stdout",
     "output_type": "stream",
     "text": [
      "Here is a simplified version of the passage:\n",
      "\n",
      "**Issue:** Calling `bytes_object.__buffer__(large_negative_number)` crashes Python with an error message.\n",
      "\n",
      "**Error Message:** \"Assertion failed\" in `typeobject.c` file.\n",
      "\n",
      "**Details:**\n",
      "\n",
      "* Happens in debug build of Python.\n",
      "* Tested on Linux and Windows with CPython main branch.\n",
      "* Python version: 3.14.0a1+.\n",
      "\n",
      "Let me know if you'd like me to simplify it further!\n"
     ]
    }
   ],
   "source": [
    "for i in res1.split('\\n'):\n",
    "    print(i)"
   ]
  },
  {
   "cell_type": "code",
   "execution_count": 11,
   "id": "1a32d915",
   "metadata": {
    "execution": {
     "iopub.execute_input": "2024-11-26T14:25:05.847080Z",
     "iopub.status.busy": "2024-11-26T14:25:05.846709Z",
     "iopub.status.idle": "2024-11-26T14:25:11.281403Z",
     "shell.execute_reply": "2024-11-26T14:25:11.280358Z"
    },
    "papermill": {
     "duration": 5.445541,
     "end_time": "2024-11-26T14:25:11.283694",
     "exception": false,
     "start_time": "2024-11-26T14:25:05.838153",
     "status": "completed"
    },
    "tags": []
   },
   "outputs": [],
   "source": [
    "res2 = qwen_reply(message=L[2])"
   ]
  },
  {
   "cell_type": "code",
   "execution_count": 12,
   "id": "85429ba6",
   "metadata": {
    "execution": {
     "iopub.execute_input": "2024-11-26T14:25:11.295319Z",
     "iopub.status.busy": "2024-11-26T14:25:11.294426Z",
     "iopub.status.idle": "2024-11-26T14:25:11.299855Z",
     "shell.execute_reply": "2024-11-26T14:25:11.298879Z"
    },
    "papermill": {
     "duration": 0.013181,
     "end_time": "2024-11-26T14:25:11.301714",
     "exception": false,
     "start_time": "2024-11-26T14:25:11.288533",
     "status": "completed"
    },
    "tags": []
   },
   "outputs": [
    {
     "name": "stdout",
     "output_type": "stream",
     "text": [
      "A translation error was found in the Ukrainian version of the Python documentation for the fnmatch module. \n",
      "\n",
      "The original English text states that Unix shell-style wildcards are \"not the same\" as regular expressions. However, the Ukrainian translation incorrectly states that they \"are the same\".\n",
      "\n",
      "To correct this, the Ukrainian translation should be changed to one of the following:\n",
      "\n",
      "- які не відповідають регулярним виразам (which do not match regular expressions)\n",
      "- які не те саме, що регулярні вирази (which are not the same as regular expressions)\n",
      "- які відрізняються від регулярних виразів (which differ from regular expressions)\n"
     ]
    }
   ],
   "source": [
    "for i in res2.split('\\n'):\n",
    "    print(i)"
   ]
  },
  {
   "cell_type": "code",
   "execution_count": 13,
   "id": "59420667",
   "metadata": {
    "execution": {
     "iopub.execute_input": "2024-11-26T14:25:11.312232Z",
     "iopub.status.busy": "2024-11-26T14:25:11.311493Z",
     "iopub.status.idle": "2024-11-26T14:25:15.855711Z",
     "shell.execute_reply": "2024-11-26T14:25:15.854759Z"
    },
    "papermill": {
     "duration": 4.551932,
     "end_time": "2024-11-26T14:25:15.858217",
     "exception": false,
     "start_time": "2024-11-26T14:25:11.306285",
     "status": "completed"
    },
    "tags": []
   },
   "outputs": [],
   "source": [
    "res3 = qwen_reply(message=L[3])\n"
   ]
  },
  {
   "cell_type": "code",
   "execution_count": 14,
   "id": "71c5c4a0",
   "metadata": {
    "execution": {
     "iopub.execute_input": "2024-11-26T14:25:15.868935Z",
     "iopub.status.busy": "2024-11-26T14:25:15.868610Z",
     "iopub.status.idle": "2024-11-26T14:25:15.873416Z",
     "shell.execute_reply": "2024-11-26T14:25:15.872567Z"
    },
    "papermill": {
     "duration": 0.012472,
     "end_time": "2024-11-26T14:25:15.875449",
     "exception": false,
     "start_time": "2024-11-26T14:25:15.862977",
     "status": "completed"
    },
    "tags": []
   },
   "outputs": [
    {
     "name": "stdout",
     "output_type": "stream",
     "text": [
      "**Simplified Passage:**\n",
      "\n",
      "When using `datetime.datetime.utcnow()`, Python raises a warning. The suggested replacement, `datetime.datetime.now(datetime.UTC)`, is incorrect because `datetime.UTC` does not exist. Instead, use `datetime.datetime.now(timezone.utc)` to create a timezone-aware UTC datetime object.\n",
      "\n",
      "**Correct Code:**\n",
      "\n",
      "```python\n",
      "from datetime import datetime\n",
      "import timezone\n",
      "\n",
      "# Incorrect (raises warning)\n",
      "time_with_warning = datetime.utcnow()\n",
      "\n",
      "# Incorrect (raises error)\n",
      "# time_with_error = datetime.now(datetime.UTC)\n",
      "\n",
      "# Correct\n",
      "time_is_correct = datetime.now(timezone.utc)\n",
      "```\n"
     ]
    }
   ],
   "source": [
    "for i in res3.split('\\n'):\n",
    "    print(i)"
   ]
  },
  {
   "cell_type": "code",
   "execution_count": 15,
   "id": "3319ec31",
   "metadata": {
    "execution": {
     "iopub.execute_input": "2024-11-26T14:25:15.885977Z",
     "iopub.status.busy": "2024-11-26T14:25:15.885703Z",
     "iopub.status.idle": "2024-11-26T14:25:22.475782Z",
     "shell.execute_reply": "2024-11-26T14:25:22.475025Z"
    },
    "papermill": {
     "duration": 6.598005,
     "end_time": "2024-11-26T14:25:22.478164",
     "exception": false,
     "start_time": "2024-11-26T14:25:15.880159",
     "status": "completed"
    },
    "tags": []
   },
   "outputs": [],
   "source": [
    "res4 = qwen_reply(message=L[4])"
   ]
  },
  {
   "cell_type": "code",
   "execution_count": 16,
   "id": "f5de09bf",
   "metadata": {
    "execution": {
     "iopub.execute_input": "2024-11-26T14:25:22.489356Z",
     "iopub.status.busy": "2024-11-26T14:25:22.488646Z",
     "iopub.status.idle": "2024-11-26T14:25:22.493547Z",
     "shell.execute_reply": "2024-11-26T14:25:22.492544Z"
    },
    "papermill": {
     "duration": 0.012836,
     "end_time": "2024-11-26T14:25:22.495929",
     "exception": false,
     "start_time": "2024-11-26T14:25:22.483093",
     "status": "completed"
    },
    "tags": []
   },
   "outputs": [
    {
     "name": "stdout",
     "output_type": "stream",
     "text": [
      "**Simplified Passage:**\n",
      "\n",
      "When using `datetime.datetime.utcnow()`, Python raises a warning. The suggested replacement, `datetime.datetime.now(datetime.UTC)`, is incorrect because `datetime.UTC` does not exist. Instead, use `datetime.datetime.now(timezone.utc)` to create a timezone-aware UTC datetime object.\n",
      "\n",
      "**Correct Code:**\n",
      "\n",
      "```python\n",
      "from datetime import datetime\n",
      "import timezone\n",
      "\n",
      "# Incorrect (raises warning)\n",
      "time_with_warning = datetime.utcnow()\n",
      "\n",
      "# Incorrect (raises error)\n",
      "# time_with_error = datetime.now(datetime.UTC)\n",
      "\n",
      "# Correct\n",
      "time_is_correct = datetime.now(timezone.utc)\n",
      "```\n"
     ]
    }
   ],
   "source": [
    "for i in res3.split('\\n'):\n",
    "    print(i)"
   ]
  },
  {
   "cell_type": "code",
   "execution_count": null,
   "id": "e5fa1079",
   "metadata": {
    "papermill": {
     "duration": 0.004529,
     "end_time": "2024-11-26T14:25:22.505205",
     "exception": false,
     "start_time": "2024-11-26T14:25:22.500676",
     "status": "completed"
    },
    "tags": []
   },
   "outputs": [],
   "source": []
  },
  {
   "cell_type": "code",
   "execution_count": null,
   "id": "606bb5c4",
   "metadata": {
    "papermill": {
     "duration": 0.004512,
     "end_time": "2024-11-26T14:25:22.514417",
     "exception": false,
     "start_time": "2024-11-26T14:25:22.509905",
     "status": "completed"
    },
    "tags": []
   },
   "outputs": [],
   "source": []
  },
  {
   "cell_type": "code",
   "execution_count": null,
   "id": "b15b75b8",
   "metadata": {
    "papermill": {
     "duration": 0.004513,
     "end_time": "2024-11-26T14:25:22.523490",
     "exception": false,
     "start_time": "2024-11-26T14:25:22.518977",
     "status": "completed"
    },
    "tags": []
   },
   "outputs": [],
   "source": []
  },
  {
   "cell_type": "code",
   "execution_count": null,
   "id": "6b59f8dd",
   "metadata": {
    "papermill": {
     "duration": 0.004496,
     "end_time": "2024-11-26T14:25:22.532647",
     "exception": false,
     "start_time": "2024-11-26T14:25:22.528151",
     "status": "completed"
    },
    "tags": []
   },
   "outputs": [],
   "source": []
  },
  {
   "cell_type": "code",
   "execution_count": null,
   "id": "015af853",
   "metadata": {
    "papermill": {
     "duration": 0.004332,
     "end_time": "2024-11-26T14:25:22.541560",
     "exception": false,
     "start_time": "2024-11-26T14:25:22.537228",
     "status": "completed"
    },
    "tags": []
   },
   "outputs": [],
   "source": []
  },
  {
   "cell_type": "code",
   "execution_count": null,
   "id": "2e01dee0",
   "metadata": {
    "papermill": {
     "duration": 0.00438,
     "end_time": "2024-11-26T14:25:22.550496",
     "exception": false,
     "start_time": "2024-11-26T14:25:22.546116",
     "status": "completed"
    },
    "tags": []
   },
   "outputs": [],
   "source": []
  },
  {
   "cell_type": "code",
   "execution_count": null,
   "id": "63ae498e",
   "metadata": {
    "papermill": {
     "duration": 0.004403,
     "end_time": "2024-11-26T14:25:22.559635",
     "exception": false,
     "start_time": "2024-11-26T14:25:22.555232",
     "status": "completed"
    },
    "tags": []
   },
   "outputs": [],
   "source": []
  },
  {
   "cell_type": "code",
   "execution_count": null,
   "id": "9530db5a",
   "metadata": {
    "papermill": {
     "duration": 0.004314,
     "end_time": "2024-11-26T14:25:22.568512",
     "exception": false,
     "start_time": "2024-11-26T14:25:22.564198",
     "status": "completed"
    },
    "tags": []
   },
   "outputs": [],
   "source": []
  }
 ],
 "metadata": {
  "kaggle": {
   "accelerator": "none",
   "dataSources": [],
   "dockerImageVersionId": 30786,
   "isGpuEnabled": false,
   "isInternetEnabled": true,
   "language": "python",
   "sourceType": "notebook"
  },
  "kernelspec": {
   "display_name": "Python 3",
   "language": "python",
   "name": "python3"
  },
  "language_info": {
   "codemirror_mode": {
    "name": "ipython",
    "version": 3
   },
   "file_extension": ".py",
   "mimetype": "text/x-python",
   "name": "python",
   "nbconvert_exporter": "python",
   "pygments_lexer": "ipython3",
   "version": "3.10.14"
  },
  "papermill": {
   "default_parameters": {},
   "duration": 28.262028,
   "end_time": "2024-11-26T14:25:22.891269",
   "environment_variables": {},
   "exception": null,
   "input_path": "__notebook__.ipynb",
   "output_path": "__notebook__.ipynb",
   "parameters": {},
   "start_time": "2024-11-26T14:24:54.629241",
   "version": "2.6.0"
  }
 },
 "nbformat": 4,
 "nbformat_minor": 5
}
