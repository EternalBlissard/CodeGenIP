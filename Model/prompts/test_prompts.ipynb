{
 "cells": [
  {
   "cell_type": "code",
   "execution_count": 24,
   "metadata": {},
   "outputs": [],
   "source": [
    "from prompt_handler import  handle_code_generator_prompt, handle_test_validator_prompt, handle_test_case_generator_prompt, handle_reasoner_prompt"
   ]
  },
  {
   "cell_type": "code",
   "execution_count": 25,
   "metadata": {},
   "outputs": [],
   "source": [
    "import re\n",
    "\n",
    "def extract_output(pattern,text):\n",
    "    # Regular expression to match content between #OUTPUTSTART\\n and #OUTPUTEND\n",
    "    # pattern = r'#OUTPUTSTART\\n(.*?)#OUTPUTEND'\n",
    "    match = re.match(pattern, text, re.DOTALL)\n",
    "    # print(match)\n",
    "    if match:\n",
    "        return match.group(1)\n",
    "    return None\n",
    "\n",
    "\n",
    "def extract_all_outputs(pattern,text):\n",
    "    # Regular expression to match content between #OUTPUTSTART\\n and #OUTPUTEND\n",
    "    # pattern = r'#OUTPUTSTART\\n(.*?)#OUTPUTEND'\n",
    "    \n",
    "    # Using re.findall to find all occurrences\n",
    "    outputs = re.findall(pattern, text, re.DOTALL)\n",
    "    \n",
    "    return outputs\n"
   ]
  },
  {
   "cell_type": "code",
   "execution_count": 26,
   "metadata": {},
   "outputs": [],
   "source": [
    "base_prompt = \"\"\"\n",
    "Given a number tell if its a armstrong number\n",
    "\"\"\""
   ]
  },
  {
   "cell_type": "code",
   "execution_count": 27,
   "metadata": {},
   "outputs": [],
   "source": [
    "reasonor_res = extract_output(r'#OUTPUTSTART\\n(.*?)\\n#OUTPUTEND',handle_reasoner_prompt(base_prompt))"
   ]
  },
  {
   "cell_type": "code",
   "execution_count": 28,
   "metadata": {},
   "outputs": [
    {
     "data": {
      "text/plain": [
       "'1. Read the input number n.\\n2. Convert the number to a string to easily iterate over each digit.\\n3. Calculate the length of the string representation of the number, which will be the power to which each digit is raised.\\n4. Initialize a variable `sum` to 0.\\n5. Iterate over each digit in the string representation of the number.\\n6. Convert the digit back to an integer, raise it to the power of the length of the string, and add the result to `sum`.\\n7. After the loop, check if `sum` is equal to the original number n.\\n8. If `sum` == n, return \"YES\" else return \"NO\".'"
      ]
     },
     "execution_count": 28,
     "metadata": {},
     "output_type": "execute_result"
    }
   ],
   "source": [
    "reasonor_res"
   ]
  },
  {
   "cell_type": "code",
   "execution_count": 29,
   "metadata": {},
   "outputs": [],
   "source": [
    "code_gen_res = extract_output(r'#CODESTART\\n(.*?)#CODEEND',handle_code_generator_prompt(reasonor_res))"
   ]
  },
  {
   "cell_type": "code",
   "execution_count": 30,
   "metadata": {},
   "outputs": [],
   "source": [
    "# with open('t.py','w') as f: #Testing if file creation is correct\n",
    "#     f.write(code_gen_res)"
   ]
  },
  {
   "cell_type": "code",
   "execution_count": 31,
   "metadata": {},
   "outputs": [],
   "source": [
    "test_gen_res = extract_all_outputs(r'#TESTCASESTART\\n(.*?)\\n#TESTCASEEND', handle_test_case_generator_prompt(reasonor_res))"
   ]
  },
  {
   "cell_type": "code",
   "execution_count": 32,
   "metadata": {},
   "outputs": [
    {
     "data": {
      "text/plain": [
       "['#TESTCASEINPUTSTART\\n153\\n#TESTCASEINPUTEND\\n#TESTCASEOUTPUTSTART\\nYES\\n#TESTCASEOUTPUTEND',\n",
       " '#TESTCASEINPUTSTART\\n370\\n#TESTCASEINPUTEND\\n#TESTCASEOUTPUTSTART\\nYES\\n#TESTCASEOUTPUTEND',\n",
       " '#TESTCASEINPUTSTART\\n371\\n#TESTCASEINPUTEND\\n#TESTCASEOUTPUTSTART\\nYES\\n#TESTCASEOUTPUTEND',\n",
       " '#TESTCASEINPUTSTART\\n407\\n#TESTCASEINPUTEND\\n#TESTCASEOUTPUTSTART\\nYES\\n#TESTCASEOUTPUTEND',\n",
       " '#TESTCASEINPUTSTART\\n0\\n#TESTCASEINPUTEND\\n#TESTCASEOUTPUTSTART\\nYES\\n#TESTCASEOUTPUTEND',\n",
       " '#TESTCASEINPUTSTART\\n1\\n#TESTCASEINPUTEND\\n#TESTCASEOUTPUTSTART\\nYES\\n#TESTCASEOUTPUTEND',\n",
       " '#TESTCASEINPUTSTART\\n9474\\n#TESTCASEINPUTEND\\n#TESTCASEOUTPUTSTART\\nYES\\n#TESTCASEOUTPUTEND',\n",
       " '#TESTCASEINPUTSTART\\n9475\\n#TESTCASEINPUTEND\\n#TESTCASEOUTPUTSTART\\nNO\\n#TESTCASEOUTPUTEND',\n",
       " '#TESTCASEINPUTSTART\\n-153\\n#TESTCASEINPUTEND\\n#TESTCASEOUTPUTSTART\\nNO\\n#TESTCASEOUTPUTEND',\n",
       " '#TESTCASEINPUTSTART\\n123\\n#TESTCASEINPUTEND\\n#TESTCASEOUTPUTSTART\\nNO\\n#TESTCASEOUTPUTEND',\n",
       " '#TESTCASEINPUTSTART\\n9999\\n#TESTCASEINPUTEND\\n#TESTCASEOUTPUTSTART\\nNO\\n#TESTCASEOUTPUTEND',\n",
       " '#TESTCASEINPUTSTART\\n10000\\n#TESTCASEINPUTEND\\n#TESTCASEOUTPUTSTART\\nNO\\n#TESTCASEOUTPUTEND',\n",
       " '#TESTCASEINPUTSTART\\n123456789\\n#TESTCASEINPUTEND\\n#TESTCASEOUTPUTSTART\\nNO\\n#TESTCASEOUTPUTEND',\n",
       " '#TESTCASEINPUTSTART\\n9474749\\n#TESTCASEINPUTEND\\n#TESTCASEOUTPUTSTART\\nNO\\n#TESTCASEOUTPUTEND',\n",
       " '#TESTCASEINPUTSTART\\n1000000000\\n#TESTCASEINPUTEND\\n#TESTCASEOUTPUTSTART\\nNO\\n#TESTCASEOUTPUTEND']"
      ]
     },
     "execution_count": 32,
     "metadata": {},
     "output_type": "execute_result"
    }
   ],
   "source": [
    "test_gen_res"
   ]
  },
  {
   "cell_type": "code",
   "execution_count": 33,
   "metadata": {},
   "outputs": [],
   "source": [
    "new_prompt = f\"\"\"\n",
    "#SUBPROBLEMSTART\n",
    "{reasonor_res}\n",
    "#SUBPROBLEMEND\n",
    "#TESTCASESTART\n",
    "{test_gen_res[0]}\n",
    "#TESTCASEEND\n",
    "\"\"\""
   ]
  },
  {
   "cell_type": "code",
   "execution_count": 34,
   "metadata": {},
   "outputs": [],
   "source": [
    "val_res = extract_output(r'#OUTPUTSTART\\n(.*?)\\n#OUTPUTEND',handle_test_validator_prompt(new_prompt))"
   ]
  },
  {
   "cell_type": "code",
   "execution_count": 35,
   "metadata": {},
   "outputs": [
    {
     "data": {
      "text/plain": [
       "True"
      ]
     },
     "execution_count": 35,
     "metadata": {},
     "output_type": "execute_result"
    }
   ],
   "source": [
    "val_res=='CORRECT'"
   ]
  }
 ],
 "metadata": {
  "language_info": {
   "name": "python"
  }
 },
 "nbformat": 4,
 "nbformat_minor": 2
}
